{
 "cells": [
  {
   "cell_type": "code",
   "execution_count": 1,
   "metadata": {},
   "outputs": [],
   "source": [
    "import sympy\n",
    "from sympy.physics.quantum import *\n",
    "from sympy.physics.quantum.qubit import Qubit,QubitBra\n",
    "from sympy.physics.quantum.gate import X,Y,Z,H,T,S,CNOT,SWAP, HadamardGate, UGate\n",
    "from sympy.physics.quantum.dagger import Dagger\n",
    "from sympy.physics.quantum.gate import HadamardGate as H\n",
    "from sympy.physics.quantum.gate import IdentityGate as I"
   ]
  },
  {
   "cell_type": "code",
   "execution_count": 2,
   "metadata": {},
   "outputs": [],
   "source": [
    "phi = sympy.Symbol('phi', real=True)\n",
    "phi0 = sympy.Symbol('phi_0', real=True)\n",
    "phi1 = sympy.Symbol('phi_1', real=True)\n",
    "phi2 = sympy.Symbol('phi_2', real=True)\n",
    "phi3 = sympy.Symbol('phi_3', real=True)\n",
    "phi4 = sympy.Symbol('phi_4', real=True)\n",
    "\n",
    "rand0 = sympy.symbols('r_0')\n",
    "rand1 = sympy.symbols('r_1')\n",
    "rand2 = sympy.symbols('r_2')\n",
    "rand3 = sympy.symbols('r_3')"
   ]
  },
  {
   "cell_type": "code",
   "execution_count": 3,
   "metadata": {},
   "outputs": [
    {
     "data": {
      "text/latex": [
       "$\\displaystyle \\left[\\begin{matrix}e^{- \\frac{i \\phi}{2}} & 0\\\\0 & e^{\\frac{i \\phi}{2}}\\end{matrix}\\right]$"
      ],
      "text/plain": [
       "Matrix([\n",
       "[exp(-I*phi/2),            0],\n",
       "[            0, exp(I*phi/2)]])"
      ]
     },
     "execution_count": 3,
     "metadata": {},
     "output_type": "execute_result"
    }
   ],
   "source": [
    "import numpy as np\n",
    "def RZgate(x):\n",
    "    mat = sympy.ImmutableMatrix([\n",
    "    [sympy.exp(-x/2*sympy.I), 0],\n",
    "    [0, sympy.exp(x/2*sympy.I)]\n",
    "    ])\n",
    "    return mat\n",
    "\n",
    "RZgate(phi)"
   ]
  },
  {
   "cell_type": "code",
   "execution_count": 4,
   "metadata": {},
   "outputs": [
    {
     "data": {
      "text/latex": [
       "$\\displaystyle \\left[\\begin{matrix}\\cos{\\left(\\frac{\\phi}{2} \\right)} & - \\sin{\\left(\\frac{\\phi}{2} \\right)}\\\\\\sin{\\left(\\frac{\\phi}{2} \\right)} & \\cos{\\left(\\frac{\\phi}{2} \\right)}\\end{matrix}\\right]$"
      ],
      "text/plain": [
       "Matrix([\n",
       "[cos(phi/2), -sin(phi/2)],\n",
       "[sin(phi/2),  cos(phi/2)]])"
      ]
     },
     "execution_count": 4,
     "metadata": {},
     "output_type": "execute_result"
    }
   ],
   "source": [
    "def RYgate(x):\n",
    "    mat = sympy.ImmutableMatrix([\n",
    "    [sympy.cos(x/2), -sympy.sin(x/2)],\n",
    "    [sympy.sin(x/2), sympy.cos(x/2)]\n",
    "    ])\n",
    "    return mat\n",
    "\n",
    "RYgate(phi)"
   ]
  },
  {
   "cell_type": "code",
   "execution_count": 5,
   "metadata": {},
   "outputs": [
    {
     "data": {
      "text/latex": [
       "$\\displaystyle \\left[\\begin{matrix}1 & 0\\\\0 & e^{i \\phi}\\end{matrix}\\right]$"
      ],
      "text/plain": [
       "Matrix([\n",
       "[1,          0],\n",
       "[0, exp(I*phi)]])"
      ]
     },
     "execution_count": 5,
     "metadata": {},
     "output_type": "execute_result"
    }
   ],
   "source": [
    "def Pgate(x):\n",
    "    mat = sympy.ImmutableMatrix([\n",
    "    [1, 0],\n",
    "    [0, sympy.exp(x*sympy.I)]\n",
    "    ])\n",
    "    return mat\n",
    "\n",
    "Pgate(phi)"
   ]
  },
  {
   "cell_type": "code",
   "execution_count": 6,
   "metadata": {},
   "outputs": [
    {
     "data": {
      "text/latex": [
       "$\\displaystyle \\left[\\begin{matrix}1 & 0\\\\0 & 1.0 i\\end{matrix}\\right]$"
      ],
      "text/plain": [
       "Matrix([\n",
       "[1,     0],\n",
       "[0, 1.0*I]])"
      ]
     },
     "execution_count": 6,
     "metadata": {},
     "output_type": "execute_result"
    }
   ],
   "source": [
    "Sgate = sympy.ImmutableMatrix([\n",
    "[1, 0],\n",
    "[0, 1j]\n",
    "])\n",
    "\n",
    "Sgate"
   ]
  },
  {
   "cell_type": "code",
   "execution_count": 7,
   "metadata": {},
   "outputs": [
    {
     "data": {
      "text/latex": [
       "$\\displaystyle \\frac{e^{\\frac{i \\phi}{2}} {\\left|01\\right\\rangle }}{2} + \\frac{e^{\\frac{i \\phi}{2}} {\\left|10\\right\\rangle }}{2} + \\frac{e^{- \\frac{i \\phi}{2}} {\\left|00\\right\\rangle }}{2} + \\frac{e^{- \\frac{i \\phi}{2}} {\\left|11\\right\\rangle }}{2}$"
      ],
      "text/plain": [
       "exp(I*phi/2)*|01>/2 + exp(I*phi/2)*|10>/2 + exp(-I*phi/2)*|00>/2 + exp(-I*phi/2)*|11>/2"
      ]
     },
     "execution_count": 7,
     "metadata": {},
     "output_type": "execute_result"
    }
   ],
   "source": [
    "#ZZ\n",
    "\n",
    "def apply_zz(q, phi):\n",
    "    q = qapply(CNOT(0,1)*q)\n",
    "    q = qapply(UGate((1,), RZgate(phi))*q)\n",
    "    q = qapply(CNOT(0,1)*q)\n",
    "    return q\n",
    "\n",
    "q = Qubit(0,0)\n",
    "q = qapply(H(0)*q)\n",
    "q = qapply(H(1)*q)\n",
    "\n",
    "apply_zz(q, phi)"
   ]
  },
  {
   "cell_type": "code",
   "execution_count": 8,
   "metadata": {},
   "outputs": [
    {
     "data": {
      "text/latex": [
       "$\\displaystyle \\frac{e^{\\frac{i \\phi}{2}} {\\left|00\\right\\rangle }}{2} + \\frac{e^{\\frac{i \\phi}{2}} {\\left|11\\right\\rangle }}{2} + \\frac{e^{- \\frac{i \\phi}{2}} {\\left|00\\right\\rangle }}{2} - \\frac{e^{- \\frac{i \\phi}{2}} {\\left|11\\right\\rangle }}{2}$"
      ],
      "text/plain": [
       "exp(I*phi/2)*|00>/2 + exp(I*phi/2)*|11>/2 + exp(-I*phi/2)*|00>/2 - exp(-I*phi/2)*|11>/2"
      ]
     },
     "execution_count": 8,
     "metadata": {},
     "output_type": "execute_result"
    }
   ],
   "source": [
    "#YY\n",
    "\n",
    "def apply_yy(q, phi):\n",
    "    q = qapply(UGate((0,), Dagger(Sgate))*q)\n",
    "    q = qapply(H(0)*q)\n",
    "    q = qapply(UGate((1,), Dagger(Sgate))*q)\n",
    "    q = qapply(H(1)*q)\n",
    "    q = qapply(CNOT(0,1)*q)\n",
    "    q = qapply(UGate((1,), RZgate(phi))*q)\n",
    "    q = qapply(CNOT(0,1)*q)\n",
    "    q = qapply(H(0)*q)\n",
    "    q = qapply(S(0)*q)\n",
    "    q = qapply(H(1)*q)\n",
    "    q = qapply(S(1)*q)\n",
    "    return q\n",
    "\n",
    "q = Qubit(0,0)\n",
    "apply_yy(q, phi)"
   ]
  },
  {
   "cell_type": "code",
   "execution_count": 9,
   "metadata": {},
   "outputs": [
    {
     "data": {
      "text/latex": [
       "$\\displaystyle \\frac{e^{\\frac{i \\phi}{2}} {\\left|00\\right\\rangle }}{2} - \\frac{e^{\\frac{i \\phi}{2}} {\\left|11\\right\\rangle }}{2} + \\frac{e^{- \\frac{i \\phi}{2}} {\\left|00\\right\\rangle }}{2} + \\frac{e^{- \\frac{i \\phi}{2}} {\\left|11\\right\\rangle }}{2}$"
      ],
      "text/plain": [
       "exp(I*phi/2)*|00>/2 - exp(I*phi/2)*|11>/2 + exp(-I*phi/2)*|00>/2 + exp(-I*phi/2)*|11>/2"
      ]
     },
     "execution_count": 9,
     "metadata": {},
     "output_type": "execute_result"
    }
   ],
   "source": [
    "#XX\n",
    "\n",
    "def apply_xx(q, phi):\n",
    "    q = qapply(H(0)*q)\n",
    "    q = qapply(H(1)*q)\n",
    "    q = qapply(CNOT(0,1)*q)\n",
    "    q = qapply(UGate((1,), RZgate(phi))*q)\n",
    "    q = qapply(CNOT(0,1)*q)\n",
    "    q = qapply(H(0)*q)\n",
    "    q = qapply(H(1)*q)\n",
    "    return q\n",
    "\n",
    "q = Qubit(0,0)\n",
    "apply_xx(q, phi)"
   ]
  },
  {
   "cell_type": "code",
   "execution_count": 10,
   "metadata": {},
   "outputs": [
    {
     "data": {
      "text/latex": [
       "$\\displaystyle \\left[\\begin{matrix}e^{- \\frac{i r_{1}}{2}} e^{- \\frac{i r_{3}}{2}} \\cos{\\left(\\frac{r_{0}}{2} \\right)} \\cos{\\left(\\frac{r_{2}}{2} \\right)}\\\\e^{\\frac{i r_{1}}{2}} e^{- \\frac{i r_{3}}{2}} \\sin{\\left(\\frac{r_{0}}{2} \\right)} \\cos{\\left(\\frac{r_{2}}{2} \\right)}\\\\e^{- \\frac{i r_{1}}{2}} e^{\\frac{i r_{3}}{2}} \\sin{\\left(\\frac{r_{2}}{2} \\right)} \\cos{\\left(\\frac{r_{0}}{2} \\right)}\\\\e^{\\frac{i r_{1}}{2}} e^{\\frac{i r_{3}}{2}} \\sin{\\left(\\frac{r_{0}}{2} \\right)} \\sin{\\left(\\frac{r_{2}}{2} \\right)}\\end{matrix}\\right]$"
      ],
      "text/plain": [
       "Matrix([\n",
       "[exp(-I*r_1/2)*exp(-I*r_3/2)*cos(r_0/2)*cos(r_2/2)],\n",
       "[ exp(I*r_1/2)*exp(-I*r_3/2)*sin(r_0/2)*cos(r_2/2)],\n",
       "[ exp(-I*r_1/2)*exp(I*r_3/2)*sin(r_2/2)*cos(r_0/2)],\n",
       "[  exp(I*r_1/2)*exp(I*r_3/2)*sin(r_0/2)*sin(r_2/2)]])"
      ]
     },
     "execution_count": 10,
     "metadata": {},
     "output_type": "execute_result"
    }
   ],
   "source": [
    "#random initialization\n",
    "\n",
    "q = Qubit(0,0)\n",
    "\n",
    "q = qapply(UGate((0,), RYgate(rand0))*q)\n",
    "q = qapply(UGate((0,), RZgate(rand1))*q)\n",
    "q = qapply(UGate((1,), RYgate(rand2))*q)\n",
    "q = qapply(UGate((1,), RZgate(rand3))*q)\n",
    "\n",
    "represent(q)"
   ]
  },
  {
   "cell_type": "code",
   "execution_count": 11,
   "metadata": {},
   "outputs": [
    {
     "data": {
      "text/latex": [
       "$\\displaystyle \\left[\\begin{matrix}e^{- \\frac{i \\left(\\phi + r_{1} + r_{3}\\right)}{2}} \\cos{\\left(\\frac{r_{0}}{2} \\right)} \\cos{\\left(\\frac{r_{2}}{2} \\right)}\\\\\\left(0.5 e^{i r_{1}} \\sin{\\left(\\frac{r_{0}}{2} \\right)} \\cos{\\left(\\frac{r_{2}}{2} \\right)} + 0.5 e^{i r_{3}} \\sin{\\left(\\frac{r_{2}}{2} \\right)} \\cos{\\left(\\frac{r_{0}}{2} \\right)} + 0.5 e^{i \\left(2 \\phi + r_{1}\\right)} \\sin{\\left(\\frac{r_{0}}{2} \\right)} \\cos{\\left(\\frac{r_{2}}{2} \\right)} - 0.5 e^{i \\left(2 \\phi + r_{3}\\right)} \\sin{\\left(\\frac{r_{2}}{2} \\right)} \\cos{\\left(\\frac{r_{0}}{2} \\right)}\\right) e^{- \\frac{i \\left(\\phi + r_{1} + r_{3}\\right)}{2}}\\\\\\left(0.5 e^{i r_{1}} \\sin{\\left(\\frac{r_{0}}{2} \\right)} \\cos{\\left(\\frac{r_{2}}{2} \\right)} + 0.5 e^{i r_{3}} \\sin{\\left(\\frac{r_{2}}{2} \\right)} \\cos{\\left(\\frac{r_{0}}{2} \\right)} - 0.5 e^{i \\left(2 \\phi + r_{1}\\right)} \\sin{\\left(\\frac{r_{0}}{2} \\right)} \\cos{\\left(\\frac{r_{2}}{2} \\right)} + 0.5 e^{i \\left(2 \\phi + r_{3}\\right)} \\sin{\\left(\\frac{r_{2}}{2} \\right)} \\cos{\\left(\\frac{r_{0}}{2} \\right)}\\right) e^{- \\frac{i \\left(\\phi + r_{1} + r_{3}\\right)}{2}}\\\\1.0 e^{i \\left(r_{1} + r_{3}\\right)} e^{- \\frac{i \\left(\\phi + r_{1} + r_{3}\\right)}{2}} \\sin{\\left(\\frac{r_{0}}{2} \\right)} \\sin{\\left(\\frac{r_{2}}{2} \\right)}\\end{matrix}\\right]$"
      ],
      "text/plain": [
       "Matrix([\n",
       "[                                                                                                                                                          exp(-I*(phi + r_1 + r_3)/2)*cos(r_0/2)*cos(r_2/2)],\n",
       "[(0.5*exp(I*r_1)*sin(r_0/2)*cos(r_2/2) + 0.5*exp(I*r_3)*sin(r_2/2)*cos(r_0/2) + 0.5*exp(I*(2*phi + r_1))*sin(r_0/2)*cos(r_2/2) - 0.5*exp(I*(2*phi + r_3))*sin(r_2/2)*cos(r_0/2))*exp(-I*(phi + r_1 + r_3)/2)],\n",
       "[(0.5*exp(I*r_1)*sin(r_0/2)*cos(r_2/2) + 0.5*exp(I*r_3)*sin(r_2/2)*cos(r_0/2) - 0.5*exp(I*(2*phi + r_1))*sin(r_0/2)*cos(r_2/2) + 0.5*exp(I*(2*phi + r_3))*sin(r_2/2)*cos(r_0/2))*exp(-I*(phi + r_1 + r_3)/2)],\n",
       "[                                                                                                                                   1.0*exp(I*(r_1 + r_3))*exp(-I*(phi + r_1 + r_3)/2)*sin(r_0/2)*sin(r_2/2)]])"
      ]
     },
     "execution_count": 11,
     "metadata": {},
     "output_type": "execute_result"
    }
   ],
   "source": [
    "#Random initialization + ZZ-YY-XX \n",
    "\n",
    "q = Qubit(0,0)\n",
    "q = qapply(UGate((0,), RYgate(rand0))*q)\n",
    "q = qapply(UGate((0,), RZgate(rand1))*q)\n",
    "q = qapply(UGate((1,), RYgate(rand2))*q)\n",
    "q = qapply(UGate((1,), RZgate(rand3))*q)\n",
    "\n",
    "q = apply_zz(q, phi)\n",
    "q = apply_yy(q, phi)\n",
    "q = apply_xx(q, phi)\n",
    "\n",
    "q = sympy.simplify(q)\n",
    "represent(q)"
   ]
  },
  {
   "cell_type": "code",
   "execution_count": 12,
   "metadata": {},
   "outputs": [
    {
     "data": {
      "text/latex": [
       "$\\displaystyle \\left[\\begin{matrix}0.5 e^{- \\frac{i \\phi}{2}}\\\\0.5 e^{- \\frac{i \\phi}{2}}\\\\0.5 e^{- \\frac{i \\phi}{2}}\\\\0.5 e^{- \\frac{i \\phi}{2}}\\end{matrix}\\right]$"
      ],
      "text/plain": [
       "Matrix([\n",
       "[0.5*exp(-I*phi/2)],\n",
       "[0.5*exp(-I*phi/2)],\n",
       "[0.5*exp(-I*phi/2)],\n",
       "[0.5*exp(-I*phi/2)]])"
      ]
     },
     "execution_count": 12,
     "metadata": {},
     "output_type": "execute_result"
    }
   ],
   "source": [
    "#Hadamard initialization + ZZ-YY-XX \n",
    "\n",
    "q = Qubit(0,0)\n",
    "q = qapply(H(0)*q)\n",
    "q = qapply(H(1)*q)\n",
    "\n",
    "q = apply_zz(q, phi)\n",
    "q = apply_yy(q, phi)\n",
    "q = apply_xx(q, phi)\n",
    "\n",
    "#sympy.simplify(q)\n",
    "represent(q)"
   ]
  },
  {
   "cell_type": "code",
   "execution_count": 13,
   "metadata": {},
   "outputs": [
    {
     "data": {
      "text/latex": [
       "$\\displaystyle \\frac{\\sqrt{2} e^{- \\frac{i \\left(\\phi_{1} + \\phi_{2} + \\phi_{3}\\right)}{2}} \\left(1.0 e^{i \\phi_{1}} \\left({\\left|01\\right\\rangle } + {\\left|10\\right\\rangle }\\right) + e^{i \\phi_{2}} \\left({\\left|00\\right\\rangle } + {\\left|11\\right\\rangle }\\right) + e^{i \\phi_{3}} \\left({\\left|00\\right\\rangle } - {\\left|11\\right\\rangle }\\right) + 1.0 e^{i \\left(\\phi_{1} + \\phi_{2} + \\phi_{3}\\right)} \\left({\\left|01\\right\\rangle } - {\\left|10\\right\\rangle }\\right)\\right)}{4}$"
      ],
      "text/plain": [
       "sqrt(2)*exp(-I*(phi_1 + phi_2 + phi_3)/2)*(1.0*exp(I*phi_1)*(|01> + |10>) + exp(I*phi_2)*(|00> + |11>) + exp(I*phi_3)*(|00> - |11>) + 1.0*exp(I*(phi_1 + phi_2 + phi_3))*(|01> - |10>))/4"
      ]
     },
     "execution_count": 13,
     "metadata": {},
     "output_type": "execute_result"
    }
   ],
   "source": [
    "q = Qubit(0,0)\n",
    "q = qapply(H(0)*q)\n",
    "\n",
    "q = apply_zz(q, phi1)\n",
    "q = apply_yy(q, phi2)\n",
    "q = apply_xx(q, phi3)\n",
    "\n",
    "#represent(sympy.simplify(q))\n",
    "sympy.simplify(q)"
   ]
  },
  {
   "cell_type": "code",
   "execution_count": 14,
   "metadata": {},
   "outputs": [
    {
     "data": {
      "text/latex": [
       "$\\displaystyle \\left[\\begin{matrix}0.25 \\sqrt{2} \\left(\\left(- e^{i \\phi_{0}} \\sin{\\left(\\frac{\\phi_{1}}{2} \\right)} + \\cos{\\left(\\frac{\\phi_{1}}{2} \\right)}\\right) e^{i \\phi_{1}} + \\left(- e^{i \\phi_{0}} \\sin{\\left(\\frac{\\phi_{1}}{2} \\right)} + \\cos{\\left(\\frac{\\phi_{1}}{2} \\right)}\\right) e^{i \\phi_{2}}\\right) e^{- \\frac{i \\left(\\phi_{1} + \\phi_{2} + \\phi_{3}\\right)}{2}}\\\\0.25 \\sqrt{2} \\left(\\left(e^{i \\phi_{0}} \\cos{\\left(\\frac{\\phi_{1}}{2} \\right)} + \\sin{\\left(\\frac{\\phi_{1}}{2} \\right)}\\right) e^{i \\phi_{3}} + \\left(e^{i \\phi_{0}} \\cos{\\left(\\frac{\\phi_{1}}{2} \\right)} + \\sin{\\left(\\frac{\\phi_{1}}{2} \\right)}\\right) e^{i \\left(\\phi_{1} + \\phi_{2} + \\phi_{3}\\right)}\\right) e^{- \\frac{i \\left(\\phi_{1} + \\phi_{2} + \\phi_{3}\\right)}{2}}\\\\0.25 \\sqrt{2} \\left(\\left(- e^{i \\phi_{0}} \\cos{\\left(\\frac{\\phi_{1}}{2} \\right)} - \\sin{\\left(\\frac{\\phi_{1}}{2} \\right)}\\right) e^{i \\left(\\phi_{1} + \\phi_{2} + \\phi_{3}\\right)} + \\left(e^{i \\phi_{0}} \\cos{\\left(\\frac{\\phi_{1}}{2} \\right)} + \\sin{\\left(\\frac{\\phi_{1}}{2} \\right)}\\right) e^{i \\phi_{3}}\\right) e^{- \\frac{i \\left(\\phi_{1} + \\phi_{2} + \\phi_{3}\\right)}{2}}\\\\0.25 \\sqrt{2} \\left(\\left(- e^{i \\phi_{0}} \\sin{\\left(\\frac{\\phi_{1}}{2} \\right)} + \\cos{\\left(\\frac{\\phi_{1}}{2} \\right)}\\right) e^{i \\phi_{2}} + \\left(e^{i \\phi_{0}} \\sin{\\left(\\frac{\\phi_{1}}{2} \\right)} - \\cos{\\left(\\frac{\\phi_{1}}{2} \\right)}\\right) e^{i \\phi_{1}}\\right) e^{- \\frac{i \\left(\\phi_{1} + \\phi_{2} + \\phi_{3}\\right)}{2}}\\end{matrix}\\right]$"
      ],
      "text/plain": [
       "Matrix([\n",
       "[                 0.25*sqrt(2)*((-exp(I*phi_0)*sin(phi_1/2) + cos(phi_1/2))*exp(I*phi_1) + (-exp(I*phi_0)*sin(phi_1/2) + cos(phi_1/2))*exp(I*phi_2))*exp(-I*(phi_1 + phi_2 + phi_3)/2)],\n",
       "[ 0.25*sqrt(2)*((exp(I*phi_0)*cos(phi_1/2) + sin(phi_1/2))*exp(I*phi_3) + (exp(I*phi_0)*cos(phi_1/2) + sin(phi_1/2))*exp(I*(phi_1 + phi_2 + phi_3)))*exp(-I*(phi_1 + phi_2 + phi_3)/2)],\n",
       "[0.25*sqrt(2)*((-exp(I*phi_0)*cos(phi_1/2) - sin(phi_1/2))*exp(I*(phi_1 + phi_2 + phi_3)) + (exp(I*phi_0)*cos(phi_1/2) + sin(phi_1/2))*exp(I*phi_3))*exp(-I*(phi_1 + phi_2 + phi_3)/2)],\n",
       "[                  0.25*sqrt(2)*((-exp(I*phi_0)*sin(phi_1/2) + cos(phi_1/2))*exp(I*phi_2) + (exp(I*phi_0)*sin(phi_1/2) - cos(phi_1/2))*exp(I*phi_1))*exp(-I*(phi_1 + phi_2 + phi_3)/2)]])"
      ]
     },
     "execution_count": 14,
     "metadata": {},
     "output_type": "execute_result"
    }
   ],
   "source": [
    "q = Qubit(0,0)\n",
    "q = qapply(H(0)*q)\n",
    "q = qapply(UGate((0,), Pgate(phi0))*q)\n",
    "q = qapply(UGate((0,), RYgate(phi1))*q)\n",
    "\n",
    "q = apply_xx(q, phi1)\n",
    "q = apply_yy(q, phi2)\n",
    "q = apply_zz(q, phi3)\n",
    "\n",
    "represent(sympy.simplify(q))\n",
    "#sympy.simplify(q)"
   ]
  },
  {
   "cell_type": "code",
   "execution_count": 15,
   "metadata": {},
   "outputs": [
    {
     "data": {
      "text/latex": [
       "$\\displaystyle 0.5 e^{- \\frac{i \\left(\\phi_{1} + \\phi_{2} + \\phi_{3}\\right)}{2}} \\left(e^{i \\phi_{2}} \\left({\\left|00\\right\\rangle } + {\\left|11\\right\\rangle }\\right) + e^{i \\phi_{3}} \\left({\\left|01\\right\\rangle } + {\\left|10\\right\\rangle }\\right)\\right)$"
      ],
      "text/plain": [
       "0.5*exp(-I*(phi_1 + phi_2 + phi_3)/2)*(exp(I*phi_2)*(|00> + |11>) + exp(I*phi_3)*(|01> + |10>))"
      ]
     },
     "execution_count": 15,
     "metadata": {},
     "output_type": "execute_result"
    }
   ],
   "source": [
    "q = Qubit(0,0)\n",
    "q = qapply(H(0)*q)\n",
    "q = qapply(H(1)*q)\n",
    "\n",
    "q = apply_xx(q, phi1)\n",
    "q = apply_yy(q, phi2)\n",
    "q = apply_zz(q, phi3)\n",
    "\n",
    "sympy.simplify(q)"
   ]
  },
  {
   "cell_type": "code",
   "execution_count": 16,
   "metadata": {},
   "outputs": [
    {
     "data": {
      "text/latex": [
       "$\\displaystyle 0.5 e^{- \\frac{i \\left(\\phi_{1} + \\phi_{2} + \\phi_{3}\\right)}{2}} \\left(e^{i \\phi_{1}} \\left({\\left|00\\right\\rangle } - {\\left|11\\right\\rangle }\\right) + e^{i \\phi_{2}} \\left({\\left|00\\right\\rangle } + {\\left|11\\right\\rangle }\\right)\\right)$"
      ],
      "text/plain": [
       "0.5*exp(-I*(phi_1 + phi_2 + phi_3)/2)*(exp(I*phi_1)*(|00> - |11>) + exp(I*phi_2)*(|00> + |11>))"
      ]
     },
     "execution_count": 16,
     "metadata": {},
     "output_type": "execute_result"
    }
   ],
   "source": [
    "q = Qubit(0,0)\n",
    "q = apply_xx(q, phi1)\n",
    "q = apply_yy(q, phi2)\n",
    "q = apply_zz(q, phi3)\n",
    "\n",
    "sympy.simplify(q)"
   ]
  },
  {
   "cell_type": "code",
   "execution_count": 17,
   "metadata": {},
   "outputs": [
    {
     "data": {
      "text/latex": [
       "$\\displaystyle 0.25 \\sqrt{2} e^{- \\frac{i \\left(\\phi_{1} + \\phi_{2} + \\phi_{3}\\right)}{2}} \\left(e^{i \\phi_{1}} \\left({\\left|00\\right\\rangle } - {\\left|11\\right\\rangle }\\right) + e^{i \\phi_{2}} \\left({\\left|00\\right\\rangle } + {\\left|11\\right\\rangle }\\right) + e^{i \\left(\\phi_{0} + \\phi_{3}\\right)} \\left({\\left|01\\right\\rangle } + {\\left|10\\right\\rangle }\\right) + e^{i \\left(\\phi_{0} + \\phi_{1} + \\phi_{2} + \\phi_{3}\\right)} \\left({\\left|01\\right\\rangle } - {\\left|10\\right\\rangle }\\right)\\right)$"
      ],
      "text/plain": [
       "0.25*sqrt(2)*exp(-I*(phi_1 + phi_2 + phi_3)/2)*(exp(I*phi_1)*(|00> - |11>) + exp(I*phi_2)*(|00> + |11>) + exp(I*(phi_0 + phi_3))*(|01> + |10>) + exp(I*(phi_0 + phi_1 + phi_2 + phi_3))*(|01> - |10>))"
      ]
     },
     "execution_count": 17,
     "metadata": {},
     "output_type": "execute_result"
    }
   ],
   "source": [
    "q = Qubit(0,0)\n",
    "q = qapply(H(0)*q)\n",
    "q = qapply(UGate((0,), Pgate(phi0))*q)\n",
    "\n",
    "q = apply_xx(q, phi1)\n",
    "q = apply_yy(q, phi2)\n",
    "q = apply_zz(q, phi3)\n",
    "\n",
    "sympy.simplify(q)\n",
    "#represent(sympy.simplify(q))"
   ]
  },
  {
   "cell_type": "code",
   "execution_count": 18,
   "metadata": {},
   "outputs": [
    {
     "data": {
      "text/latex": [
       "$\\displaystyle \\frac{\\sqrt{2} e^{- \\frac{11 i \\phi}{162}} \\left(1.0 e^{\\frac{8 i \\phi}{81}} \\left(e^{\\frac{85 i \\phi}{81}} \\cos{\\left(\\frac{\\phi}{6} \\right)} {\\left|01\\right\\rangle } - e^{\\frac{85 i \\phi}{81}} \\cos{\\left(\\frac{\\phi}{6} \\right)} {\\left|10\\right\\rangle } - e^{\\frac{73 i \\phi}{81}} \\sin{\\left(\\frac{\\phi}{6} \\right)} {\\left|00\\right\\rangle } + e^{\\frac{73 i \\phi}{81}} \\sin{\\left(\\frac{\\phi}{6} \\right)} {\\left|11\\right\\rangle } + e^{\\frac{4 i \\phi}{81}} \\sin{\\left(\\frac{\\phi}{6} \\right)} {\\left|01\\right\\rangle } - e^{\\frac{4 i \\phi}{81}} \\sin{\\left(\\frac{\\phi}{6} \\right)} {\\left|10\\right\\rangle } - e^{\\frac{25 i \\phi}{27}} \\sin{\\left(\\frac{\\phi}{6} \\right)} {\\left|00\\right\\rangle } - e^{\\frac{25 i \\phi}{27}} \\sin{\\left(\\frac{\\phi}{6} \\right)} {\\left|11\\right\\rangle } + e^{i \\phi} \\cos{\\left(\\frac{\\phi}{6} \\right)} {\\left|01\\right\\rangle } + e^{i \\phi} \\cos{\\left(\\frac{\\phi}{6} \\right)} {\\left|10\\right\\rangle } + \\sin{\\left(\\frac{\\phi}{6} \\right)} {\\left|01\\right\\rangle } + \\sin{\\left(\\frac{\\phi}{6} \\right)} {\\left|10\\right\\rangle }\\right) + e^{\\frac{2 i \\phi}{81}} \\cos{\\left(\\frac{\\phi}{6} \\right)} \\left({\\left|00\\right\\rangle } + {\\left|11\\right\\rangle }\\right) + \\cos{\\left(\\frac{\\phi}{6} \\right)} \\left({\\left|00\\right\\rangle } - {\\left|11\\right\\rangle }\\right)\\right)}{4}$"
      ],
      "text/plain": [
       "sqrt(2)*exp(-11*I*phi/162)*(1.0*exp(8*I*phi/81)*(exp(85*I*phi/81)*cos(phi/6)*|01> - exp(85*I*phi/81)*cos(phi/6)*|10> - exp(73*I*phi/81)*sin(phi/6)*|00> + exp(73*I*phi/81)*sin(phi/6)*|11> + exp(4*I*phi/81)*sin(phi/6)*|01> - exp(4*I*phi/81)*sin(phi/6)*|10> - exp(25*I*phi/27)*sin(phi/6)*|00> - exp(25*I*phi/27)*sin(phi/6)*|11> + exp(I*phi)*cos(phi/6)*|01> + exp(I*phi)*cos(phi/6)*|10> + sin(phi/6)*|01> + sin(phi/6)*|10>) + exp(2*I*phi/81)*cos(phi/6)*(|00> + |11>) + cos(phi/6)*(|00> - |11>))/4"
      ]
     },
     "execution_count": 18,
     "metadata": {},
     "output_type": "execute_result"
    }
   ],
   "source": [
    "q = Qubit(0,0)\n",
    "q = qapply(H(0)*q)\n",
    "q = qapply(UGate((0,), Pgate(phi))*q)\n",
    "q = qapply(UGate((0,), RYgate(phi/3))*q)\n",
    "\n",
    "q = apply_zz(q, phi/9)\n",
    "q = apply_yy(q, phi/27)\n",
    "q = apply_xx(q, phi/81)\n",
    "\n",
    "sympy.simplify(q)"
   ]
  },
  {
   "cell_type": "code",
   "execution_count": null,
   "metadata": {},
   "outputs": [],
   "source": []
  }
 ],
 "metadata": {
  "kernelspec": {
   "display_name": "venv",
   "language": "python",
   "name": "python3"
  },
  "language_info": {
   "codemirror_mode": {
    "name": "ipython",
    "version": 3
   },
   "file_extension": ".py",
   "mimetype": "text/x-python",
   "name": "python",
   "nbconvert_exporter": "python",
   "pygments_lexer": "ipython3",
   "version": "3.11.8"
  }
 },
 "nbformat": 4,
 "nbformat_minor": 2
}
