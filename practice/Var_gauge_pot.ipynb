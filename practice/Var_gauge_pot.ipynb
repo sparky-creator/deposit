{
 "cells": [
  {
   "cell_type": "code",
   "execution_count": 1,
   "id": "f6e07464-0b32-4110-8e8c-3dc150f87eaf",
   "metadata": {},
   "outputs": [
    {
     "name": "stdout",
     "output_type": "stream",
     "text": [
      "SparsePauliOp(['ZI', 'IZ', 'XI', 'IX', 'ZZ'],\n",
      "              coeffs=[ParameterExpression(-1.0*h*cos(theta)),\n",
      " ParameterExpression(-1.0*h*cos(theta)),\n",
      " ParameterExpression(-1.0*h*sin(theta)),\n",
      " ParameterExpression(-1.0*h*sin(theta)), ParameterExpression(-1.0*Jz)])\n"
     ]
    }
   ],
   "source": [
    "from qiskit.circuit import Parameter\n",
    "from qiskit.quantum_info import SparsePauliOp\n",
    "import numpy as np\n",
    "\n",
    "# Define parameters\n",
    "theta = Parameter('theta')\n",
    "h = Parameter('h')\n",
    "Jz = Parameter('Jz')\n",
    "\n",
    "\n",
    "pauli_list = [\"ZI\", \"IZ\", \"XI\", \"IX\", \"ZZ\"]\n",
    "coeffs = [-h * theta.cos(), -h * theta.cos(), -h * theta.sin(), -h * theta.sin(), -Jz]\n",
    "\n",
    "H = SparsePauliOp(pauli_list, coeffs)\n",
    "\n",
    "print(H)"
   ]
  },
  {
   "cell_type": "code",
   "execution_count": 2,
   "id": "93177187-2508-42b2-aa30-a0b0c16ac82e",
   "metadata": {},
   "outputs": [
    {
     "name": "stdout",
     "output_type": "stream",
     "text": [
      "ParameterView([Parameter(Jz), Parameter(h), Parameter(theta)])\n"
     ]
    }
   ],
   "source": [
    "print(H.parameters)"
   ]
  },
  {
   "cell_type": "code",
   "execution_count": 3,
   "id": "fd9c052c-4a9f-4139-908e-e0e2c5460930",
   "metadata": {},
   "outputs": [
    {
     "name": "stdout",
     "output_type": "stream",
     "text": [
      "SparsePauliOp(['ZI', 'IZ', 'XI', 'IX', 'ZZ'],\n",
      "              coeffs=[ParameterExpression(1.0*h*sin(theta)),\n",
      " ParameterExpression(1.0*h*sin(theta)),\n",
      " ParameterExpression(-1.0*h*cos(theta)),\n",
      " ParameterExpression(-1.0*h*cos(theta)), 0j])\n"
     ]
    }
   ],
   "source": [
    "# Function to compute the derivative of H with respect to theta\n",
    "def differentiate_H(H, theta):\n",
    "    new_coeffs = [coeff.gradient(theta) for coeff in H.coeffs]\n",
    "\n",
    "    return SparsePauliOp(H.paulis, new_coeffs)\n",
    "\n",
    "dH_dtheta = differentiate_H(H, theta)\n",
    "print(dH_dtheta)"
   ]
  },
  {
   "cell_type": "code",
   "execution_count": 4,
   "id": "e383943c-ba8b-40e8-afcb-17b89c9f5450",
   "metadata": {},
   "outputs": [
    {
     "name": "stdout",
     "output_type": "stream",
     "text": [
      "SparsePauliOp(['YI', 'IY'],\n",
      "              coeffs=[ParameterExpression(0.5*alpha), ParameterExpression(0.5*alpha)])\n"
     ]
    }
   ],
   "source": [
    "alpha = Parameter('alpha')\n",
    "\n",
    "ksi_pauli_list = ['YI', \"IY\"]\n",
    "ksi_coeffs = [1/2 * alpha, 1/2 * alpha]\n",
    "\n",
    "ksi = SparsePauliOp(ksi_pauli_list, ksi_coeffs)\n",
    "\n",
    "print(ksi)"
   ]
  },
  {
   "cell_type": "code",
   "execution_count": 5,
   "id": "ee8e31a5-6b94-41e1-b4e8-8b74646a2e24",
   "metadata": {},
   "outputs": [
    {
     "name": "stdout",
     "output_type": "stream",
     "text": [
      "ParameterView([Parameter(alpha)])\n"
     ]
    }
   ],
   "source": [
    "print(ksi.parameters)"
   ]
  },
  {
   "cell_type": "code",
   "execution_count": 6,
   "id": "96d53347-1f28-4558-b46b-e5aed7c98ed9",
   "metadata": {},
   "outputs": [
    {
     "name": "stdout",
     "output_type": "stream",
     "text": [
      "SparsePauliOp(['XI', 'ZI', 'XZ', 'IX', 'IZ', 'ZX'],\n",
      "              coeffs=[ParameterExpression(-1.0*I*alpha*h*cos(theta)),\n",
      " ParameterExpression(1.0*I*alpha*h*sin(theta)),\n",
      " ParameterExpression(-1.0*I*Jz*alpha),\n",
      " ParameterExpression(-1.0*I*alpha*h*cos(theta)),\n",
      " ParameterExpression(1.0*I*alpha*h*sin(theta)),\n",
      " ParameterExpression(-1.0*I*Jz*alpha)])\n"
     ]
    }
   ],
   "source": [
    "from qiskit.quantum_info import commutator\n",
    "\n",
    "comm_ksi_H = commutator(ksi, H).simplify()\n",
    "\n",
    "print(comm_ksi_H)"
   ]
  },
  {
   "cell_type": "code",
   "execution_count": 7,
   "id": "424c3af5-9dca-493e-9a6f-19e5a9ff265a",
   "metadata": {},
   "outputs": [
    {
     "name": "stdout",
     "output_type": "stream",
     "text": [
      "SparsePauliOp(['ZI', 'IZ', 'XI', 'IX', 'XZ', 'ZX'],\n",
      "              coeffs=[ParameterExpression(-1.0*alpha*h*sin(theta) + 1.0*h*sin(theta)),\n",
      " ParameterExpression(-1.0*alpha*h*sin(theta) + 1.0*h*sin(theta)),\n",
      " ParameterExpression(1.0*alpha*h*cos(theta) - 1.0*h*cos(theta)),\n",
      " ParameterExpression(1.0*alpha*h*cos(theta) - 1.0*h*cos(theta)),\n",
      " ParameterExpression(1.0*Jz*alpha), ParameterExpression(1.0*Jz*alpha)])\n"
     ]
    }
   ],
   "source": [
    "G = dH_dtheta + 1j * comm_ksi_H\n",
    "G = G.simplify()\n",
    "print(G)"
   ]
  },
  {
   "cell_type": "code",
   "execution_count": 8,
   "id": "0fbc9fc9-2de6-4aa4-a2ab-b218e1a2e989",
   "metadata": {},
   "outputs": [
    {
     "name": "stdout",
     "output_type": "stream",
     "text": [
      "SparsePauliOp(['II', 'ZZ', 'ZX', 'IX', 'XZ', 'XI', 'XX', 'IZ', 'ZI', 'YY'],\n",
      "              coeffs=[ParameterExpression(2.0*Jz**2*alpha**2 + 2.0*(-1.0*alpha*h*sin(theta) + 1.0*h*sin(theta))**2 + 2.0*(1.0*alpha*h*cos(theta) - 1.0*h*cos(theta))**2),\n",
      " ParameterExpression(2.0*(-1.0*alpha*h*sin(theta) + 1.0*h*sin(theta))**2),\n",
      " ParameterExpression(2.0*(-1.0*alpha*h*sin(theta) + 1.0*h*sin(theta))*(1.0*alpha*h*cos(theta) - 1.0*h*cos(theta))),\n",
      " ParameterExpression(2.0*Jz*alpha*(-1.0*alpha*h*sin(theta) + 1.0*h*sin(theta))),\n",
      " ParameterExpression(2.0*(-1.0*alpha*h*sin(theta) + 1.0*h*sin(theta))*(1.0*alpha*h*cos(theta) - 1.0*h*cos(theta))),\n",
      " ParameterExpression(2.0*Jz*alpha*(-1.0*alpha*h*sin(theta) + 1.0*h*sin(theta))),\n",
      " ParameterExpression(2.0*(1.0*alpha*h*cos(theta) - 1.0*h*cos(theta))**2),\n",
      " ParameterExpression(2.0*Jz*alpha*(1.0*alpha*h*cos(theta) - 1.0*h*cos(theta))),\n",
      " ParameterExpression(2.0*Jz*alpha*(1.0*alpha*h*cos(theta) - 1.0*h*cos(theta))),\n",
      " ParameterExpression(2.0*Jz**2*alpha**2)])\n"
     ]
    }
   ],
   "source": [
    "G_sq = G.power(2).simplify()\n",
    "\n",
    "print(G_sq)"
   ]
  },
  {
   "cell_type": "code",
   "execution_count": 9,
   "id": "30ee2450-dfe9-40b8-867f-14b4a3700b2c",
   "metadata": {},
   "outputs": [
    {
     "name": "stdout",
     "output_type": "stream",
     "text": [
      "Trace of G^2: 8.0*Jz**2*alpha**2 + 8.0*(-1.0*alpha*h*sin(theta) + 1.0*h*sin(theta))**2 + 8.0*(1.0*alpha*h*cos(theta) - 1.0*h*cos(theta))**2\n"
     ]
    }
   ],
   "source": [
    "def trace_sparse_pauli_op(op):\n",
    "    num_qubits = op.num_qubits  \n",
    "    trace_value = 0\n",
    "\n",
    "    for pauli, coeff in zip(op.paulis, op.coeffs):\n",
    "        if pauli.to_label() == \"I\" * num_qubits:  \n",
    "            trace_value += coeff * (2 ** num_qubits)  \n",
    "\n",
    "    return trace_value\n",
    "\n",
    "# Compute the trace of G^2\n",
    "trace_G_sq = trace_sparse_pauli_op(G_sq)\n",
    "\n",
    "print(\"Trace of G^2:\", trace_G_sq)\n",
    "\n"
   ]
  },
  {
   "cell_type": "code",
   "execution_count": 10,
   "id": "167f951b-a22f-4830-ad2f-ab7a8a5a81d9",
   "metadata": {},
   "outputs": [
    {
     "data": {
      "text/plain": [
       "qiskit.circuit.parameterexpression.ParameterExpression"
      ]
     },
     "execution_count": 10,
     "metadata": {},
     "output_type": "execute_result"
    }
   ],
   "source": [
    "type(trace_G_sq)"
   ]
  },
  {
   "cell_type": "code",
   "execution_count": 11,
   "id": "e072b13f-a567-4256-a63e-932e5908803b",
   "metadata": {},
   "outputs": [
    {
     "name": "stdout",
     "output_type": "stream",
     "text": [
      "16.0*Jz**2*alpha - 16.0*h*(-1.0*alpha*h*sin(theta) + 1.0*h*sin(theta))*sin(theta) + 16.0*h*(1.0*alpha*h*cos(theta) - 1.0*h*cos(theta))*cos(theta)\n"
     ]
    }
   ],
   "source": [
    "partial_alpha = trace_G_sq.gradient(alpha)\n",
    "\n",
    "print(partial_alpha)"
   ]
  },
  {
   "cell_type": "code",
   "execution_count": 12,
   "id": "32e6dc8f-cd43-450a-9724-477bac499af3",
   "metadata": {},
   "outputs": [
    {
     "name": "stdout",
     "output_type": "stream",
     "text": [
      "Optimal alpha: h**2/(Jz**2 + h**2)\n"
     ]
    }
   ],
   "source": [
    "import sympy as sp\n",
    "\n",
    "def solve_for_alpha(expr, alpha):\n",
    "    sym_expr = expr.sympify()  # Convert to SymPy\n",
    "    sym_alpha = sp.Symbol(str(alpha))  # Define alpha in SymPy\n",
    "    solution = sp.solve(sym_expr, sym_alpha)  # Solve for alpha\n",
    "    return solution\n",
    "\n",
    "# Solve for alpha*\n",
    "alpha_star = solve_for_alpha(partial_alpha, alpha)[0]\n",
    "print(\"Optimal alpha:\", alpha_star)\n"
   ]
  },
  {
   "cell_type": "code",
   "execution_count": 13,
   "id": "c1c907f0-29cc-468c-8a10-de709db0051b",
   "metadata": {},
   "outputs": [
    {
     "data": {
      "text/plain": [
       "sympy.core.mul.Mul"
      ]
     },
     "execution_count": 13,
     "metadata": {},
     "output_type": "execute_result"
    }
   ],
   "source": [
    "type(alpha_star)"
   ]
  },
  {
   "cell_type": "code",
   "execution_count": 14,
   "id": "4c6f3059-1b34-4d46-ae55-237f284e5af3",
   "metadata": {},
   "outputs": [
    {
     "name": "stdout",
     "output_type": "stream",
     "text": [
      "h**2/(Jz**2 + h**2)\n",
      "<class 'qiskit.circuit.parameter.Parameter'>\n"
     ]
    }
   ],
   "source": [
    "# Convert sympy object to a Qiskit Parameter object\n",
    "\n",
    "alpha_star_param = Parameter(str(alpha_star))\n",
    "\n",
    "print(alpha_star_param)\n",
    "print(type(alpha_star_param))"
   ]
  },
  {
   "cell_type": "code",
   "execution_count": 15,
   "id": "49e12797-bf31-4d96-8caf-3316d263370e",
   "metadata": {},
   "outputs": [
    {
     "name": "stdout",
     "output_type": "stream",
     "text": [
      "SparsePauliOp(['YI', 'IY'],\n",
      "              coeffs=[ParameterExpression(0.5*h**2/(Jz**2 + h**2)),\n",
      " ParameterExpression(0.5*h**2/(Jz**2 + h**2))])\n"
     ]
    }
   ],
   "source": [
    "ksi_evaluated = ksi.assign_parameters({alpha: alpha_star_param})\n",
    "\n",
    "print(ksi_evaluated)\n"
   ]
  },
  {
   "cell_type": "code",
   "execution_count": null,
   "id": "eb2ec666-425f-45b7-a7d0-68e1eb03ba3e",
   "metadata": {},
   "outputs": [],
   "source": []
  }
 ],
 "metadata": {
  "kernelspec": {
   "display_name": "new",
   "language": "python",
   "name": "python3"
  },
  "language_info": {
   "codemirror_mode": {
    "name": "ipython",
    "version": 3
   },
   "file_extension": ".py",
   "mimetype": "text/x-python",
   "name": "python",
   "nbconvert_exporter": "python",
   "pygments_lexer": "ipython3",
   "version": "3.12.3"
  }
 },
 "nbformat": 4,
 "nbformat_minor": 5
}
