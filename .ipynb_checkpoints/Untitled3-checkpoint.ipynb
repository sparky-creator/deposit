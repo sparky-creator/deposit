{
 "cells": [
  {
   "cell_type": "code",
   "execution_count": 3,
   "id": "3845311c-d9f3-4422-a5bb-2d5b2b4263a4",
   "metadata": {},
   "outputs": [],
   "source": [
    "import scipy.stats as stat\n",
    "from sklearn.linear_model import LinearRegression "
   ]
  },
  {
   "cell_type": "code",
   "execution_count": null,
   "id": "979099c3-98d1-4ef9-8458-7686794460eb",
   "metadata": {},
   "outputs": [],
   "source": [
    "\n",
    "class LinearRegression_Mod(LinearRegression):\n",
    "\n",
    "    def _init__(self):\n",
    "        super().__init\n",
    "    \n",
    "    "
   ]
  }
 ],
 "metadata": {
  "kernelspec": {
   "display_name": "Python 3 (ipykernel)",
   "language": "python",
   "name": "python3"
  },
  "language_info": {
   "codemirror_mode": {
    "name": "ipython",
    "version": 3
   },
   "file_extension": ".py",
   "mimetype": "text/x-python",
   "name": "python",
   "nbconvert_exporter": "python",
   "pygments_lexer": "ipython3",
   "version": "3.10.14"
  }
 },
 "nbformat": 4,
 "nbformat_minor": 5
}
