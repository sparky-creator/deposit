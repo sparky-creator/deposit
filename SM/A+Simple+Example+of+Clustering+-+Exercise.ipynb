{
 "cells": [
  {
   "cell_type": "markdown",
   "metadata": {},
   "source": [
    "# A Simple Example of Clustering "
   ]
  },
  {
   "cell_type": "markdown",
   "metadata": {},
   "source": [
    "You are given much more country data. Using the same methodology as the one in the lecture, group all the countries in 2 clusters. \n",
    "\n",
    "Try with other numbers of clusters and see if they match your expectations. Maybe 7 is going to be a cool one!\n",
    "\n",
    "Plot the data using the <i> c </i> parameter to separate the data by the clusters we defined.  \n",
    "\n",
    "<i> Note: c stands for color <i>"
   ]
  },
  {
   "cell_type": "markdown",
   "metadata": {},
   "source": [
    "## Import the relevant libraries"
   ]
  },
  {
   "cell_type": "code",
   "execution_count": 10,
   "metadata": {},
   "outputs": [],
   "source": [
    "import pandas as pd\n",
    "import numpy as np\n",
    "\n",
    "from sklearn.cluster import KMeans\n",
    "\n",
    "import matplotlib.pyplot as plt\n",
    "import plotly.express as px\n",
    "import seaborn as sns\n",
    "sns.set()"
   ]
  },
  {
   "cell_type": "markdown",
   "metadata": {},
   "source": [
    "## Load the data"
   ]
  },
  {
   "cell_type": "markdown",
   "metadata": {},
   "source": [
    "Load data from the csv file: <i> 'Countries.csv'</i>.\n"
   ]
  },
  {
   "cell_type": "code",
   "execution_count": 5,
   "metadata": {},
   "outputs": [],
   "source": [
    "df_data = pd.read_csv('Countries-exercise.csv')"
   ]
  },
  {
   "cell_type": "markdown",
   "metadata": {},
   "source": [
    "## Plot the data"
   ]
  },
  {
   "cell_type": "markdown",
   "metadata": {},
   "source": [
    "Plot the <i>'Longtitude'</i> and <i>'Latitude'</i> columns. "
   ]
  },
  {
   "cell_type": "code",
   "execution_count": 17,
   "metadata": {},
   "outputs": [
    {
     "data": {
      "text/html": [
       "<div>\n",
       "<style scoped>\n",
       "    .dataframe tbody tr th:only-of-type {\n",
       "        vertical-align: middle;\n",
       "    }\n",
       "\n",
       "    .dataframe tbody tr th {\n",
       "        vertical-align: top;\n",
       "    }\n",
       "\n",
       "    .dataframe thead th {\n",
       "        text-align: right;\n",
       "    }\n",
       "</style>\n",
       "<table border=\"1\" class=\"dataframe\">\n",
       "  <thead>\n",
       "    <tr style=\"text-align: right;\">\n",
       "      <th></th>\n",
       "      <th>Longitude</th>\n",
       "      <th>Latitude</th>\n",
       "    </tr>\n",
       "  </thead>\n",
       "  <tbody>\n",
       "    <tr>\n",
       "      <th>0</th>\n",
       "      <td>-69.982677</td>\n",
       "      <td>12.520880</td>\n",
       "    </tr>\n",
       "    <tr>\n",
       "      <th>1</th>\n",
       "      <td>66.004734</td>\n",
       "      <td>33.835231</td>\n",
       "    </tr>\n",
       "    <tr>\n",
       "      <th>2</th>\n",
       "      <td>17.537368</td>\n",
       "      <td>-12.293361</td>\n",
       "    </tr>\n",
       "    <tr>\n",
       "      <th>3</th>\n",
       "      <td>-63.064989</td>\n",
       "      <td>18.223959</td>\n",
       "    </tr>\n",
       "    <tr>\n",
       "      <th>4</th>\n",
       "      <td>20.049834</td>\n",
       "      <td>41.142450</td>\n",
       "    </tr>\n",
       "    <tr>\n",
       "      <th>...</th>\n",
       "      <td>...</td>\n",
       "      <td>...</td>\n",
       "    </tr>\n",
       "    <tr>\n",
       "      <th>236</th>\n",
       "      <td>-172.164851</td>\n",
       "      <td>-13.753243</td>\n",
       "    </tr>\n",
       "    <tr>\n",
       "      <th>237</th>\n",
       "      <td>47.586762</td>\n",
       "      <td>15.909280</td>\n",
       "    </tr>\n",
       "    <tr>\n",
       "      <th>238</th>\n",
       "      <td>25.083901</td>\n",
       "      <td>-29.000341</td>\n",
       "    </tr>\n",
       "    <tr>\n",
       "      <th>239</th>\n",
       "      <td>27.774759</td>\n",
       "      <td>-13.458242</td>\n",
       "    </tr>\n",
       "    <tr>\n",
       "      <th>240</th>\n",
       "      <td>29.851441</td>\n",
       "      <td>-19.004204</td>\n",
       "    </tr>\n",
       "  </tbody>\n",
       "</table>\n",
       "<p>241 rows × 2 columns</p>\n",
       "</div>"
      ],
      "text/plain": [
       "      Longitude   Latitude\n",
       "0    -69.982677  12.520880\n",
       "1     66.004734  33.835231\n",
       "2     17.537368 -12.293361\n",
       "3    -63.064989  18.223959\n",
       "4     20.049834  41.142450\n",
       "..          ...        ...\n",
       "236 -172.164851 -13.753243\n",
       "237   47.586762  15.909280\n",
       "238   25.083901 -29.000341\n",
       "239   27.774759 -13.458242\n",
       "240   29.851441 -19.004204\n",
       "\n",
       "[241 rows x 2 columns]"
      ]
     },
     "execution_count": 17,
     "metadata": {},
     "output_type": "execute_result"
    }
   ],
   "source": [
    "lon_lat"
   ]
  },
  {
   "cell_type": "code",
   "execution_count": 9,
   "metadata": {},
   "outputs": [],
   "source": [
    "lon_lat = df_data.iloc[:,1:3]"
   ]
  },
  {
   "cell_type": "code",
   "execution_count": 20,
   "metadata": {},
   "outputs": [
    {
     "data": {
      "application/vnd.plotly.v1+json": {
       "config": {
        "plotlyServerURL": "https://plot.ly"
       },
       "data": [
        {
         "hovertemplate": "Longitude=%{x}<br>Latitude=%{y}<extra></extra>",
         "legendgroup": "",
         "marker": {
          "color": "#636efa",
          "symbol": "circle"
         },
         "mode": "markers",
         "name": "",
         "orientation": "v",
         "showlegend": false,
         "type": "scatter",
         "x": [
          -69.98267711,
          66.00473366,
          17.53736768,
          -63.06498927,
          20.04983396,
          19.95328768,
          1.56054378,
          54.3001671,
          -65.17980692,
          44.92993276,
          -170.7180258,
          19.92108951,
          123.5838379,
          69.22666758,
          -61.79469343,
          134.4910001,
          14.1264761,
          47.54599879,
          29.87512156,
          4.64065114,
          2.32785254,
          -1.75456601,
          90.23812743,
          25.21552909,
          50.54196932,
          -98.30777028,
          -76.62843038,
          17.76876733,
          -62.84067779,
          28.03209307,
          -88.71010486,
          -64.7545589,
          -64.68538645,
          -53.09783113,
          -59.559797,
          114.7220304,
          90.40188155,
          23.79853368,
          20.46826831,
          8.20867471,
          -71.38256213,
          103.8190735,
          -5.5692157,
          12.73964156,
          23.64396107,
          15.21965762,
          -159.7872422,
          -73.08114582,
          43.68253968,
          -23.9598882,
          -84.19208768,
          -79.01605384,
          -68.97119369,
          -80.91213321,
          33.5684813,
          33.0060022,
          15.31240163,
          10.38578051,
          42.5606754,
          -61.357726,
          10.02800992,
          -70.50568896,
          2.61732301,
          -78.75201922,
          29.86190099,
          38.84617011,
          -3.64755047,
          25.54248537,
          39.60080098,
          26.2746656,
          165.4519543,
          -59.35238956,
          -2.76172945,
          -6.88095423,
          153.2394379,
          11.7886287,
          -2.86563164,
          43.50780252,
          -2.57239064,
          -1.21676566,
          -10.94066612,
          -15.39601295,
          -14.94972445,
          10.34137924,
          22.95555794,
          -61.68220189,
          -41.34191127,
          -90.36482009,
          144.7679102,
          -58.98202459,
          114.1138045,
          73.5205171,
          -86.6151661,
          16.40412899,
          -72.68527509,
          19.39559116,
          117.2401137,
          -4.53873952,
          79.6119761,
          104.851898,
          72.44541229,
          -8.13793569,
          54.27407004,
          43.74353149,
          -18.57396167,
          35.00444693,
          12.07001339,
          -77.31482593,
          -2.12689938,
          36.77136104,
          138.0308956,
          77.18011865,
          67.29149357,
          37.79593973,
          74.54165513,
          104.9069433,
          -45.61110513,
          -62.68755265,
          127.8391609,
          20.87249811,
          47.58700459,
          103.7377241,
          35.88016072,
          -9.32207573,
          18.00866169,
          -60.96969923,
          9.53574312,
          80.70108238,
          28.22723131,
          23.88719355,
          6.07182201,
          24.91235983,
          113.5093212,
          -63.05972851,
          -8.45615795,
          7.40627677,
          28.45673372,
          46.70473674,
          73.45713004,
          -102.5234517,
          170.3397612,
          21.68211346,
          -3.54269065,
          14.40523316,
          96.48843321,
          19.23883939,
          103.0529977,
          145.6196965,
          35.53367543,
          -10.34779815,
          -62.18518546,
          57.57120551,
          34.28935599,
          109.6976228,
          17.20963567,
          165.6849237,
          9.38545882,
          167.9492168,
          8.08943895,
          -85.0305297,
          -169.8699468,
          5.28144793,
          15.34834656,
          83.9158264,
          166.9325682,
          171.4849235,
          56.09166155,
          69.33957937,
          -80.11915156,
          -128.317042,
          -74.38242685,
          122.8839325,
          134.4080797,
          145.2074475,
          19.39012835,
          -66.47307604,
          127.1924797,
          -8.50104361,
          -58.40013703,
          35.19628705,
          -144.9049439,
          51.18479632,
          24.97293039,
          96.68656112,
          29.91988515,
          -12.21982755,
          44.53686271,
          29.94046812,
          30.24790002,
          -14.4734924,
          103.8172559,
          -36.43318388,
          -9.54779416,
          159.6328767,
          -11.79271247,
          -88.87164469,
          12.45922334,
          46.25198395,
          45.70714487,
          -56.30319779,
          20.78958334,
          6.72429658,
          -55.9123457,
          19.47905218,
          14.80444238,
          16.74558049,
          31.4819369,
          -63.05713363,
          55.47603279,
          38.50788204,
          -71.97387881,
          18.64492513,
          0.96232845,
          101.0028813,
          71.01362631,
          59.37100021,
          125.8443898,
          -174.8098734,
          -61.26567923,
          9.55288359,
          35.16895346,
          120.9542728,
          34.81309981,
          32.36907971,
          31.38326469,
          -56.01807053,
          -112.4616737,
          63.14001528,
          12.43387177,
          -61.20129695,
          -66.18184123,
          -64.47146992,
          -64.80301538,
          106.299147,
          167.6864464,
          -177.3483483,
          -172.1648506,
          47.58676189,
          25.08390093,
          27.77475946,
          29.8514412
         ],
         "xaxis": "x",
         "y": [
          12.52088038,
          33.83523073,
          -12.29336054,
          18.2239595,
          41.14244989,
          60.21488688,
          42.54229102,
          23.90528188,
          -35.3813488,
          40.28952569,
          -14.30445997,
          -80.50857913,
          -12.42993164,
          -49.24895485,
          17.2774996,
          -25.73288704,
          47.58549439,
          40.28827235,
          -3.35939666,
          50.63981576,
          9.6417597,
          12.26953846,
          23.86731158,
          42.76890318,
          26.04205135,
          61.36206324,
          24.29036702,
          44.17450125,
          17.89880451,
          53.53131377,
          17.20027509,
          32.31367802,
          -16.70814787,
          -10.78777702,
          13.18145428,
          4.51968958,
          27.41106589,
          -22.18403213,
          6.56823297,
          46.79785878,
          -37.73070989,
          36.56176546,
          7.6284262,
          5.69109849,
          -2.87746289,
          -0.83787463,
          -21.21927288,
          3.91383431,
          -11.87783444,
          15.95523324,
          9.97634464,
          21.62289528,
          12.19551675,
          19.42896497,
          35.26277486,
          34.91667211,
          49.73341233,
          51.10698181,
          11.74871806,
          15.4394702,
          55.98125296,
          18.89433082,
          28.15893849,
          -1.42381612,
          26.49593311,
          15.36186618,
          40.24448698,
          58.67192972,
          8.62278679,
          64.49884603,
          -17.42858032,
          -51.74483954,
          42.17344011,
          62.05385403,
          7.45246814,
          -0.58660025,
          54.12387156,
          42.16855755,
          49.46809761,
          7.95345644,
          10.43621593,
          13.44965244,
          12.04744948,
          1.70555135,
          39.07469623,
          12.11725044,
          74.71051289,
          15.69403664,
          13.44165626,
          4.79378034,
          22.39827737,
          -53.08724656,
          14.82688165,
          45.08047631,
          18.93502563,
          47.16277506,
          -2.21505456,
          54.22418911,
          22.88578212,
          -10.6478515,
          -7.33059751,
          53.1754487,
          32.57503292,
          33.03970582,
          64.99575386,
          31.46110101,
          42.79662641,
          18.15694878,
          49.21837377,
          31.24579091,
          37.59230135,
          35.39236325,
          48.15688067,
          0.59988022,
          41.46221943,
          12.72004786,
          0.86001503,
          17.2645995,
          36.38523983,
          42.57078707,
          29.33431262,
          18.50217433,
          33.92306631,
          6.45278492,
          27.03094495,
          13.89479481,
          47.13665835,
          7.61266509,
          -29.58003188,
          55.32610984,
          49.76725361,
          56.85085163,
          22.22311688,
          18.08888611,
          29.83762955,
          43.75274627,
          47.19498804,
          -19.37189587,
          3.7287092,
          23.94753724,
          7.00376358,
          41.59530893,
          17.34581581,
          35.92149632,
          21.18566599,
          42.78890259,
          46.82681544,
          15.82927563,
          -17.27381643,
          20.25736706,
          16.73941406,
          -20.27768704,
          -13.21808088,
          3.78986846,
          -22.13032568,
          -21.29991806,
          17.41912493,
          -29.0514609,
          9.59411452,
          12.84709429,
          -19.04945708,
          52.1007899,
          68.75015572,
          28.24891365,
          -0.51912639,
          -41.81113557,
          20.60515333,
          29.9497515,
          8.51750797,
          -24.36500535,
          -9.15280381,
          11.77536778,
          7.28742784,
          -6.46416646,
          52.12759564,
          18.22813055,
          40.15350311,
          39.59550671,
          -23.22823913,
          31.91613893,
          -14.72227409,
          25.30601188,
          45.85243127,
          61.98052209,
          -1.99033832,
          24.22956739,
          24.12245841,
          15.99035669,
          7.30877945,
          14.36624173,
          1.35876087,
          -54.46488248,
          -12.40355951,
          -8.92178022,
          8.56329593,
          13.73943744,
          43.94186747,
          9.73345496,
          4.75062876,
          46.91918789,
          44.2215032,
          0.44391445,
          4.13055413,
          48.70547528,
          46.11554772,
          62.77966519,
          -26.55843045,
          18.05081728,
          -4.66099094,
          35.02547389,
          21.83047572,
          15.33333758,
          8.52531356,
          15.11815794,
          38.5304539,
          39.11554137,
          -8.82889162,
          -20.42843174,
          10.45733408,
          34.11956246,
          39.0616029,
          23.7539928,
          -6.27565408,
          1.27469299,
          48.99656673,
          -32.79951534,
          45.6795472,
          41.75554225,
          41.90174985,
          13.22472269,
          7.12422421,
          18.52585755,
          17.95500624,
          16.6460167,
          -16.22640909,
          -13.88737039,
          -13.75324346,
          15.90928005,
          -29.00034095,
          -13.45824152,
          -19.00420419
         ],
         "yaxis": "y"
        }
       ],
       "layout": {
        "autosize": true,
        "legend": {
         "tracegroupgap": 0
        },
        "margin": {
         "t": 60
        },
        "template": {
         "data": {
          "bar": [
           {
            "error_x": {
             "color": "#2a3f5f"
            },
            "error_y": {
             "color": "#2a3f5f"
            },
            "marker": {
             "line": {
              "color": "#E5ECF6",
              "width": 0.5
             },
             "pattern": {
              "fillmode": "overlay",
              "size": 10,
              "solidity": 0.2
             }
            },
            "type": "bar"
           }
          ],
          "barpolar": [
           {
            "marker": {
             "line": {
              "color": "#E5ECF6",
              "width": 0.5
             },
             "pattern": {
              "fillmode": "overlay",
              "size": 10,
              "solidity": 0.2
             }
            },
            "type": "barpolar"
           }
          ],
          "carpet": [
           {
            "aaxis": {
             "endlinecolor": "#2a3f5f",
             "gridcolor": "white",
             "linecolor": "white",
             "minorgridcolor": "white",
             "startlinecolor": "#2a3f5f"
            },
            "baxis": {
             "endlinecolor": "#2a3f5f",
             "gridcolor": "white",
             "linecolor": "white",
             "minorgridcolor": "white",
             "startlinecolor": "#2a3f5f"
            },
            "type": "carpet"
           }
          ],
          "choropleth": [
           {
            "colorbar": {
             "outlinewidth": 0,
             "ticks": ""
            },
            "type": "choropleth"
           }
          ],
          "contour": [
           {
            "colorbar": {
             "outlinewidth": 0,
             "ticks": ""
            },
            "colorscale": [
             [
              0,
              "#0d0887"
             ],
             [
              0.1111111111111111,
              "#46039f"
             ],
             [
              0.2222222222222222,
              "#7201a8"
             ],
             [
              0.3333333333333333,
              "#9c179e"
             ],
             [
              0.4444444444444444,
              "#bd3786"
             ],
             [
              0.5555555555555556,
              "#d8576b"
             ],
             [
              0.6666666666666666,
              "#ed7953"
             ],
             [
              0.7777777777777778,
              "#fb9f3a"
             ],
             [
              0.8888888888888888,
              "#fdca26"
             ],
             [
              1,
              "#f0f921"
             ]
            ],
            "type": "contour"
           }
          ],
          "contourcarpet": [
           {
            "colorbar": {
             "outlinewidth": 0,
             "ticks": ""
            },
            "type": "contourcarpet"
           }
          ],
          "heatmap": [
           {
            "colorbar": {
             "outlinewidth": 0,
             "ticks": ""
            },
            "colorscale": [
             [
              0,
              "#0d0887"
             ],
             [
              0.1111111111111111,
              "#46039f"
             ],
             [
              0.2222222222222222,
              "#7201a8"
             ],
             [
              0.3333333333333333,
              "#9c179e"
             ],
             [
              0.4444444444444444,
              "#bd3786"
             ],
             [
              0.5555555555555556,
              "#d8576b"
             ],
             [
              0.6666666666666666,
              "#ed7953"
             ],
             [
              0.7777777777777778,
              "#fb9f3a"
             ],
             [
              0.8888888888888888,
              "#fdca26"
             ],
             [
              1,
              "#f0f921"
             ]
            ],
            "type": "heatmap"
           }
          ],
          "heatmapgl": [
           {
            "colorbar": {
             "outlinewidth": 0,
             "ticks": ""
            },
            "colorscale": [
             [
              0,
              "#0d0887"
             ],
             [
              0.1111111111111111,
              "#46039f"
             ],
             [
              0.2222222222222222,
              "#7201a8"
             ],
             [
              0.3333333333333333,
              "#9c179e"
             ],
             [
              0.4444444444444444,
              "#bd3786"
             ],
             [
              0.5555555555555556,
              "#d8576b"
             ],
             [
              0.6666666666666666,
              "#ed7953"
             ],
             [
              0.7777777777777778,
              "#fb9f3a"
             ],
             [
              0.8888888888888888,
              "#fdca26"
             ],
             [
              1,
              "#f0f921"
             ]
            ],
            "type": "heatmapgl"
           }
          ],
          "histogram": [
           {
            "marker": {
             "pattern": {
              "fillmode": "overlay",
              "size": 10,
              "solidity": 0.2
             }
            },
            "type": "histogram"
           }
          ],
          "histogram2d": [
           {
            "colorbar": {
             "outlinewidth": 0,
             "ticks": ""
            },
            "colorscale": [
             [
              0,
              "#0d0887"
             ],
             [
              0.1111111111111111,
              "#46039f"
             ],
             [
              0.2222222222222222,
              "#7201a8"
             ],
             [
              0.3333333333333333,
              "#9c179e"
             ],
             [
              0.4444444444444444,
              "#bd3786"
             ],
             [
              0.5555555555555556,
              "#d8576b"
             ],
             [
              0.6666666666666666,
              "#ed7953"
             ],
             [
              0.7777777777777778,
              "#fb9f3a"
             ],
             [
              0.8888888888888888,
              "#fdca26"
             ],
             [
              1,
              "#f0f921"
             ]
            ],
            "type": "histogram2d"
           }
          ],
          "histogram2dcontour": [
           {
            "colorbar": {
             "outlinewidth": 0,
             "ticks": ""
            },
            "colorscale": [
             [
              0,
              "#0d0887"
             ],
             [
              0.1111111111111111,
              "#46039f"
             ],
             [
              0.2222222222222222,
              "#7201a8"
             ],
             [
              0.3333333333333333,
              "#9c179e"
             ],
             [
              0.4444444444444444,
              "#bd3786"
             ],
             [
              0.5555555555555556,
              "#d8576b"
             ],
             [
              0.6666666666666666,
              "#ed7953"
             ],
             [
              0.7777777777777778,
              "#fb9f3a"
             ],
             [
              0.8888888888888888,
              "#fdca26"
             ],
             [
              1,
              "#f0f921"
             ]
            ],
            "type": "histogram2dcontour"
           }
          ],
          "mesh3d": [
           {
            "colorbar": {
             "outlinewidth": 0,
             "ticks": ""
            },
            "type": "mesh3d"
           }
          ],
          "parcoords": [
           {
            "line": {
             "colorbar": {
              "outlinewidth": 0,
              "ticks": ""
             }
            },
            "type": "parcoords"
           }
          ],
          "pie": [
           {
            "automargin": true,
            "type": "pie"
           }
          ],
          "scatter": [
           {
            "fillpattern": {
             "fillmode": "overlay",
             "size": 10,
             "solidity": 0.2
            },
            "type": "scatter"
           }
          ],
          "scatter3d": [
           {
            "line": {
             "colorbar": {
              "outlinewidth": 0,
              "ticks": ""
             }
            },
            "marker": {
             "colorbar": {
              "outlinewidth": 0,
              "ticks": ""
             }
            },
            "type": "scatter3d"
           }
          ],
          "scattercarpet": [
           {
            "marker": {
             "colorbar": {
              "outlinewidth": 0,
              "ticks": ""
             }
            },
            "type": "scattercarpet"
           }
          ],
          "scattergeo": [
           {
            "marker": {
             "colorbar": {
              "outlinewidth": 0,
              "ticks": ""
             }
            },
            "type": "scattergeo"
           }
          ],
          "scattergl": [
           {
            "marker": {
             "colorbar": {
              "outlinewidth": 0,
              "ticks": ""
             }
            },
            "type": "scattergl"
           }
          ],
          "scattermapbox": [
           {
            "marker": {
             "colorbar": {
              "outlinewidth": 0,
              "ticks": ""
             }
            },
            "type": "scattermapbox"
           }
          ],
          "scatterpolar": [
           {
            "marker": {
             "colorbar": {
              "outlinewidth": 0,
              "ticks": ""
             }
            },
            "type": "scatterpolar"
           }
          ],
          "scatterpolargl": [
           {
            "marker": {
             "colorbar": {
              "outlinewidth": 0,
              "ticks": ""
             }
            },
            "type": "scatterpolargl"
           }
          ],
          "scatterternary": [
           {
            "marker": {
             "colorbar": {
              "outlinewidth": 0,
              "ticks": ""
             }
            },
            "type": "scatterternary"
           }
          ],
          "surface": [
           {
            "colorbar": {
             "outlinewidth": 0,
             "ticks": ""
            },
            "colorscale": [
             [
              0,
              "#0d0887"
             ],
             [
              0.1111111111111111,
              "#46039f"
             ],
             [
              0.2222222222222222,
              "#7201a8"
             ],
             [
              0.3333333333333333,
              "#9c179e"
             ],
             [
              0.4444444444444444,
              "#bd3786"
             ],
             [
              0.5555555555555556,
              "#d8576b"
             ],
             [
              0.6666666666666666,
              "#ed7953"
             ],
             [
              0.7777777777777778,
              "#fb9f3a"
             ],
             [
              0.8888888888888888,
              "#fdca26"
             ],
             [
              1,
              "#f0f921"
             ]
            ],
            "type": "surface"
           }
          ],
          "table": [
           {
            "cells": {
             "fill": {
              "color": "#EBF0F8"
             },
             "line": {
              "color": "white"
             }
            },
            "header": {
             "fill": {
              "color": "#C8D4E3"
             },
             "line": {
              "color": "white"
             }
            },
            "type": "table"
           }
          ]
         },
         "layout": {
          "annotationdefaults": {
           "arrowcolor": "#2a3f5f",
           "arrowhead": 0,
           "arrowwidth": 1
          },
          "autotypenumbers": "strict",
          "coloraxis": {
           "colorbar": {
            "outlinewidth": 0,
            "ticks": ""
           }
          },
          "colorscale": {
           "diverging": [
            [
             0,
             "#8e0152"
            ],
            [
             0.1,
             "#c51b7d"
            ],
            [
             0.2,
             "#de77ae"
            ],
            [
             0.3,
             "#f1b6da"
            ],
            [
             0.4,
             "#fde0ef"
            ],
            [
             0.5,
             "#f7f7f7"
            ],
            [
             0.6,
             "#e6f5d0"
            ],
            [
             0.7,
             "#b8e186"
            ],
            [
             0.8,
             "#7fbc41"
            ],
            [
             0.9,
             "#4d9221"
            ],
            [
             1,
             "#276419"
            ]
           ],
           "sequential": [
            [
             0,
             "#0d0887"
            ],
            [
             0.1111111111111111,
             "#46039f"
            ],
            [
             0.2222222222222222,
             "#7201a8"
            ],
            [
             0.3333333333333333,
             "#9c179e"
            ],
            [
             0.4444444444444444,
             "#bd3786"
            ],
            [
             0.5555555555555556,
             "#d8576b"
            ],
            [
             0.6666666666666666,
             "#ed7953"
            ],
            [
             0.7777777777777778,
             "#fb9f3a"
            ],
            [
             0.8888888888888888,
             "#fdca26"
            ],
            [
             1,
             "#f0f921"
            ]
           ],
           "sequentialminus": [
            [
             0,
             "#0d0887"
            ],
            [
             0.1111111111111111,
             "#46039f"
            ],
            [
             0.2222222222222222,
             "#7201a8"
            ],
            [
             0.3333333333333333,
             "#9c179e"
            ],
            [
             0.4444444444444444,
             "#bd3786"
            ],
            [
             0.5555555555555556,
             "#d8576b"
            ],
            [
             0.6666666666666666,
             "#ed7953"
            ],
            [
             0.7777777777777778,
             "#fb9f3a"
            ],
            [
             0.8888888888888888,
             "#fdca26"
            ],
            [
             1,
             "#f0f921"
            ]
           ]
          },
          "colorway": [
           "#636efa",
           "#EF553B",
           "#00cc96",
           "#ab63fa",
           "#FFA15A",
           "#19d3f3",
           "#FF6692",
           "#B6E880",
           "#FF97FF",
           "#FECB52"
          ],
          "font": {
           "color": "#2a3f5f"
          },
          "geo": {
           "bgcolor": "white",
           "lakecolor": "white",
           "landcolor": "#E5ECF6",
           "showlakes": true,
           "showland": true,
           "subunitcolor": "white"
          },
          "hoverlabel": {
           "align": "left"
          },
          "hovermode": "closest",
          "mapbox": {
           "style": "light"
          },
          "paper_bgcolor": "white",
          "plot_bgcolor": "#E5ECF6",
          "polar": {
           "angularaxis": {
            "gridcolor": "white",
            "linecolor": "white",
            "ticks": ""
           },
           "bgcolor": "#E5ECF6",
           "radialaxis": {
            "gridcolor": "white",
            "linecolor": "white",
            "ticks": ""
           }
          },
          "scene": {
           "xaxis": {
            "backgroundcolor": "#E5ECF6",
            "gridcolor": "white",
            "gridwidth": 2,
            "linecolor": "white",
            "showbackground": true,
            "ticks": "",
            "zerolinecolor": "white"
           },
           "yaxis": {
            "backgroundcolor": "#E5ECF6",
            "gridcolor": "white",
            "gridwidth": 2,
            "linecolor": "white",
            "showbackground": true,
            "ticks": "",
            "zerolinecolor": "white"
           },
           "zaxis": {
            "backgroundcolor": "#E5ECF6",
            "gridcolor": "white",
            "gridwidth": 2,
            "linecolor": "white",
            "showbackground": true,
            "ticks": "",
            "zerolinecolor": "white"
           }
          },
          "shapedefaults": {
           "line": {
            "color": "#2a3f5f"
           }
          },
          "ternary": {
           "aaxis": {
            "gridcolor": "white",
            "linecolor": "white",
            "ticks": ""
           },
           "baxis": {
            "gridcolor": "white",
            "linecolor": "white",
            "ticks": ""
           },
           "bgcolor": "#E5ECF6",
           "caxis": {
            "gridcolor": "white",
            "linecolor": "white",
            "ticks": ""
           }
          },
          "title": {
           "x": 0.05
          },
          "xaxis": {
           "automargin": true,
           "gridcolor": "white",
           "linecolor": "white",
           "ticks": "",
           "title": {
            "standoff": 15
           },
           "zerolinecolor": "white",
           "zerolinewidth": 2
          },
          "yaxis": {
           "automargin": true,
           "gridcolor": "white",
           "linecolor": "white",
           "ticks": "",
           "title": {
            "standoff": 15
           },
           "zerolinecolor": "white",
           "zerolinewidth": 2
          }
         }
        },
        "xaxis": {
         "anchor": "y",
         "autorange": true,
         "domain": [
          0,
          1
         ],
         "range": [
          -198.45582991509747,
          192.5924051150975
         ],
         "title": {
          "text": "Longitude"
         },
         "type": "linear"
        },
        "yaxis": {
         "anchor": "x",
         "autorange": true,
         "domain": [
          0,
          1
         ],
         "range": [
          -92.52685528377953,
          86.72878904377953
         ],
         "title": {
          "text": "Latitude"
         },
         "type": "linear"
        }
       }
      },
      "image/png": "[encoded data removed]",
      "text/html": [
       "<div>                            <div id=\"84a73d57-f446-41b8-9b58-134f508bc82e\" class=\"plotly-graph-div\" style=\"height:525px; width:100%;\"></div>            <script type=\"text/javascript\">                require([\"plotly\"], function(Plotly) {                    window.PLOTLYENV=window.PLOTLYENV || {};                                    if (document.getElementById(\"84a73d57-f446-41b8-9b58-134f508bc82e\")) {                    Plotly.newPlot(                        \"84a73d57-f446-41b8-9b58-134f508bc82e\",                        [{\"hovertemplate\":\"Longitude=%{x}\\u003cbr\\u003eLatitude=%{y}\\u003cextra\\u003e\\u003c\\u002fextra\\u003e\",\"legendgroup\":\"\",\"marker\":{\"color\":\"#636efa\",\"symbol\":\"circle\"},\"mode\":\"markers\",\"name\":\"\",\"orientation\":\"v\",\"showlegend\":false,\"x\":[-69.98267711,66.00473366,17.53736768,-63.06498927,20.04983396,19.95328768,1.56054378,54.3001671,-65.17980692,44.92993276,-170.7180258,19.92108951,123.5838379,69.22666758,-61.79469343,134.4910001,14.1264761,47.54599879,29.87512156,4.64065114,2.32785254,-1.75456601,90.23812743,25.21552909,50.54196932,-98.30777028,-76.62843038,17.76876733,-62.84067779,28.03209307,-88.71010486,-64.7545589,-64.68538645,-53.09783113,-59.559797,114.7220304,90.40188155,23.79853368,20.46826831,8.20867471,-71.38256213,103.8190735,-5.5692157,12.73964156,23.64396107,15.21965762,-159.7872422,-73.08114582,43.68253968,-23.9598882,-84.19208768,-79.01605384,-68.97119369,-80.91213321,33.5684813,33.0060022,15.31240163,10.38578051,42.5606754,-61.357726,10.02800992,-70.50568896,2.61732301,-78.75201922,29.86190099,38.84617011,-3.64755047,25.54248537,39.60080098,26.2746656,165.4519543,-59.35238956,-2.76172945,-6.88095423,153.2394379,11.7886287,-2.86563164,43.50780252,-2.57239064,-1.21676566,-10.94066612,-15.39601295,-14.94972445,10.34137924,22.95555794,-61.68220189,-41.34191127,-90.36482009,144.7679102,-58.98202459,114.1138045,73.5205171,-86.6151661,16.40412899,-72.68527509,19.39559116,117.2401137,-4.53873952,79.6119761,104.851898,72.44541229,-8.13793569,54.27407004,43.74353149,-18.57396167,35.00444693,12.07001339,-77.31482593,-2.12689938,36.77136104,138.0308956,77.18011865,67.29149357,37.79593973,74.54165513,104.9069433,-45.61110513,-62.68755265,127.8391609,20.87249811,47.58700459,103.7377241,35.88016072,-9.32207573,18.00866169,-60.96969923,9.53574312,80.70108238,28.22723131,23.88719355,6.07182201,24.91235983,113.5093212,-63.05972851,-8.45615795,7.40627677,28.45673372,46.70473674,73.45713004,-102.5234517,170.3397612,21.68211346,-3.54269065,14.40523316,96.48843321,19.23883939,103.0529977,145.6196965,35.53367543,-10.34779815,-62.18518546,57.57120551,34.28935599,109.6976228,17.20963567,165.6849237,9.38545882,167.9492168,8.08943895,-85.0305297,-169.8699468,5.28144793,15.34834656,83.9158264,166.9325682,171.4849235,56.09166155,69.33957937,-80.11915156,-128.317042,-74.38242685,122.8839325,134.4080797,145.2074475,19.39012835,-66.47307604,127.1924797,-8.50104361,-58.40013703,35.19628705,-144.9049439,51.18479632,24.97293039,96.68656112,29.91988515,-12.21982755,44.53686271,29.94046812,30.24790002,-14.4734924,103.8172559,-36.43318388,-9.54779416,159.6328767,-11.79271247,-88.87164469,12.45922334,46.25198395,45.70714487,-56.30319779,20.78958334,6.72429658,-55.9123457,19.47905218,14.80444238,16.74558049,31.4819369,-63.05713363,55.47603279,38.50788204,-71.97387881,18.64492513,0.96232845,101.0028813,71.01362631,59.37100021,125.8443898,-174.8098734,-61.26567923,9.55288359,35.16895346,120.9542728,34.81309981,32.36907971,31.38326469,-56.01807053,-112.4616737,63.14001528,12.43387177,-61.20129695,-66.18184123,-64.47146992,-64.80301538,106.299147,167.6864464,-177.3483483,-172.1648506,47.58676189,25.08390093,27.77475946,29.8514412],\"xaxis\":\"x\",\"y\":[12.52088038,33.83523073,-12.29336054,18.2239595,41.14244989,60.21488688,42.54229102,23.90528188,-35.3813488,40.28952569,-14.30445997,-80.50857913,-12.42993164,-49.24895485,17.2774996,-25.73288704,47.58549439,40.28827235,-3.35939666,50.63981576,9.6417597,12.26953846,23.86731158,42.76890318,26.04205135,61.36206324,24.29036702,44.17450125,17.89880451,53.53131377,17.20027509,32.31367802,-16.70814787,-10.78777702,13.18145428,4.51968958,27.41106589,-22.18403213,6.56823297,46.79785878,-37.73070989,36.56176546,7.6284262,5.69109849,-2.87746289,-0.83787463,-21.21927288,3.91383431,-11.87783444,15.95523324,9.97634464,21.62289528,12.19551675,19.42896497,35.26277486,34.91667211,49.73341233,51.10698181,11.74871806,15.4394702,55.98125296,18.89433082,28.15893849,-1.42381612,26.49593311,15.36186618,40.24448698,58.67192972,8.62278679,64.49884603,-17.42858032,-51.74483954,42.17344011,62.05385403,7.45246814,-0.58660025,54.12387156,42.16855755,49.46809761,7.95345644,10.43621593,13.44965244,12.04744948,1.70555135,39.07469623,12.11725044,74.71051289,15.69403664,13.44165626,4.79378034,22.39827737,-53.08724656,14.82688165,45.08047631,18.93502563,47.16277506,-2.21505456,54.22418911,22.88578212,-10.6478515,-7.33059751,53.1754487,32.57503292,33.03970582,64.99575386,31.46110101,42.79662641,18.15694878,49.21837377,31.24579091,37.59230135,35.39236325,48.15688067,0.59988022,41.46221943,12.72004786,0.86001503,17.2645995,36.38523983,42.57078707,29.33431262,18.50217433,33.92306631,6.45278492,27.03094495,13.89479481,47.13665835,7.61266509,-29.58003188,55.32610984,49.76725361,56.85085163,22.22311688,18.08888611,29.83762955,43.75274627,47.19498804,-19.37189587,3.7287092,23.94753724,7.00376358,41.59530893,17.34581581,35.92149632,21.18566599,42.78890259,46.82681544,15.82927563,-17.27381643,20.25736706,16.73941406,-20.27768704,-13.21808088,3.78986846,-22.13032568,-21.29991806,17.41912493,-29.0514609,9.59411452,12.84709429,-19.04945708,52.1007899,68.75015572,28.24891365,-0.51912639,-41.81113557,20.60515333,29.9497515,8.51750797,-24.36500535,-9.15280381,11.77536778,7.28742784,-6.46416646,52.12759564,18.22813055,40.15350311,39.59550671,-23.22823913,31.91613893,-14.72227409,25.30601188,45.85243127,61.98052209,-1.99033832,24.22956739,24.12245841,15.99035669,7.30877945,14.36624173,1.35876087,-54.46488248,-12.40355951,-8.92178022,8.56329593,13.73943744,43.94186747,9.73345496,4.75062876,46.91918789,44.2215032,0.44391445,4.13055413,48.70547528,46.11554772,62.77966519,-26.55843045,18.05081728,-4.66099094,35.02547389,21.83047572,15.33333758,8.52531356,15.11815794,38.5304539,39.11554137,-8.82889162,-20.42843174,10.45733408,34.11956246,39.0616029,23.7539928,-6.27565408,1.27469299,48.99656673,-32.79951534,45.6795472,41.75554225,41.90174985,13.22472269,7.12422421,18.52585755,17.95500624,16.6460167,-16.22640909,-13.88737039,-13.75324346,15.90928005,-29.00034095,-13.45824152,-19.00420419],\"yaxis\":\"y\",\"type\":\"scatter\"}],                        {\"template\":{\"data\":{\"histogram2dcontour\":[{\"type\":\"histogram2dcontour\",\"colorbar\":{\"outlinewidth\":0,\"ticks\":\"\"},\"colorscale\":[[0.0,\"#0d0887\"],[0.1111111111111111,\"#46039f\"],[0.2222222222222222,\"#7201a8\"],[0.3333333333333333,\"#9c179e\"],[0.4444444444444444,\"#bd3786\"],[0.5555555555555556,\"#d8576b\"],[0.6666666666666666,\"#ed7953\"],[0.7777777777777778,\"#fb9f3a\"],[0.8888888888888888,\"#fdca26\"],[1.0,\"#f0f921\"]]}],\"choropleth\":[{\"type\":\"choropleth\",\"colorbar\":{\"outlinewidth\":0,\"ticks\":\"\"}}],\"histogram2d\":[{\"type\":\"histogram2d\",\"colorbar\":{\"outlinewidth\":0,\"ticks\":\"\"},\"colorscale\":[[0.0,\"#0d0887\"],[0.1111111111111111,\"#46039f\"],[0.2222222222222222,\"#7201a8\"],[0.3333333333333333,\"#9c179e\"],[0.4444444444444444,\"#bd3786\"],[0.5555555555555556,\"#d8576b\"],[0.6666666666666666,\"#ed7953\"],[0.7777777777777778,\"#fb9f3a\"],[0.8888888888888888,\"#fdca26\"],[1.0,\"#f0f921\"]]}],\"heatmap\":[{\"type\":\"heatmap\",\"colorbar\":{\"outlinewidth\":0,\"ticks\":\"\"},\"colorscale\":[[0.0,\"#0d0887\"],[0.1111111111111111,\"#46039f\"],[0.2222222222222222,\"#7201a8\"],[0.3333333333333333,\"#9c179e\"],[0.4444444444444444,\"#bd3786\"],[0.5555555555555556,\"#d8576b\"],[0.6666666666666666,\"#ed7953\"],[0.7777777777777778,\"#fb9f3a\"],[0.8888888888888888,\"#fdca26\"],[1.0,\"#f0f921\"]]}],\"heatmapgl\":[{\"type\":\"heatmapgl\",\"colorbar\":{\"outlinewidth\":0,\"ticks\":\"\"},\"colorscale\":[[0.0,\"#0d0887\"],[0.1111111111111111,\"#46039f\"],[0.2222222222222222,\"#7201a8\"],[0.3333333333333333,\"#9c179e\"],[0.4444444444444444,\"#bd3786\"],[0.5555555555555556,\"#d8576b\"],[0.6666666666666666,\"#ed7953\"],[0.7777777777777778,\"#fb9f3a\"],[0.8888888888888888,\"#fdca26\"],[1.0,\"#f0f921\"]]}],\"contourcarpet\":[{\"type\":\"contourcarpet\",\"colorbar\":{\"outlinewidth\":0,\"ticks\":\"\"}}],\"contour\":[{\"type\":\"contour\",\"colorbar\":{\"outlinewidth\":0,\"ticks\":\"\"},\"colorscale\":[[0.0,\"#0d0887\"],[0.1111111111111111,\"#46039f\"],[0.2222222222222222,\"#7201a8\"],[0.3333333333333333,\"#9c179e\"],[0.4444444444444444,\"#bd3786\"],[0.5555555555555556,\"#d8576b\"],[0.6666666666666666,\"#ed7953\"],[0.7777777777777778,\"#fb9f3a\"],[0.8888888888888888,\"#fdca26\"],[1.0,\"#f0f921\"]]}],\"surface\":[{\"type\":\"surface\",\"colorbar\":{\"outlinewidth\":0,\"ticks\":\"\"},\"colorscale\":[[0.0,\"#0d0887\"],[0.1111111111111111,\"#46039f\"],[0.2222222222222222,\"#7201a8\"],[0.3333333333333333,\"#9c179e\"],[0.4444444444444444,\"#bd3786\"],[0.5555555555555556,\"#d8576b\"],[0.6666666666666666,\"#ed7953\"],[0.7777777777777778,\"#fb9f3a\"],[0.8888888888888888,\"#fdca26\"],[1.0,\"#f0f921\"]]}],\"mesh3d\":[{\"type\":\"mesh3d\",\"colorbar\":{\"outlinewidth\":0,\"ticks\":\"\"}}],\"scatter\":[{\"fillpattern\":{\"fillmode\":\"overlay\",\"size\":10,\"solidity\":0.2},\"type\":\"scatter\"}],\"parcoords\":[{\"type\":\"parcoords\",\"line\":{\"colorbar\":{\"outlinewidth\":0,\"ticks\":\"\"}}}],\"scatterpolargl\":[{\"type\":\"scatterpolargl\",\"marker\":{\"colorbar\":{\"outlinewidth\":0,\"ticks\":\"\"}}}],\"bar\":[{\"error_x\":{\"color\":\"#2a3f5f\"},\"error_y\":{\"color\":\"#2a3f5f\"},\"marker\":{\"line\":{\"color\":\"#E5ECF6\",\"width\":0.5},\"pattern\":{\"fillmode\":\"overlay\",\"size\":10,\"solidity\":0.2}},\"type\":\"bar\"}],\"scattergeo\":[{\"type\":\"scattergeo\",\"marker\":{\"colorbar\":{\"outlinewidth\":0,\"ticks\":\"\"}}}],\"scatterpolar\":[{\"type\":\"scatterpolar\",\"marker\":{\"colorbar\":{\"outlinewidth\":0,\"ticks\":\"\"}}}],\"histogram\":[{\"marker\":{\"pattern\":{\"fillmode\":\"overlay\",\"size\":10,\"solidity\":0.2}},\"type\":\"histogram\"}],\"scattergl\":[{\"type\":\"scattergl\",\"marker\":{\"colorbar\":{\"outlinewidth\":0,\"ticks\":\"\"}}}],\"scatter3d\":[{\"type\":\"scatter3d\",\"line\":{\"colorbar\":{\"outlinewidth\":0,\"ticks\":\"\"}},\"marker\":{\"colorbar\":{\"outlinewidth\":0,\"ticks\":\"\"}}}],\"scattermapbox\":[{\"type\":\"scattermapbox\",\"marker\":{\"colorbar\":{\"outlinewidth\":0,\"ticks\":\"\"}}}],\"scatterternary\":[{\"type\":\"scatterternary\",\"marker\":{\"colorbar\":{\"outlinewidth\":0,\"ticks\":\"\"}}}],\"scattercarpet\":[{\"type\":\"scattercarpet\",\"marker\":{\"colorbar\":{\"outlinewidth\":0,\"ticks\":\"\"}}}],\"carpet\":[{\"aaxis\":{\"endlinecolor\":\"#2a3f5f\",\"gridcolor\":\"white\",\"linecolor\":\"white\",\"minorgridcolor\":\"white\",\"startlinecolor\":\"#2a3f5f\"},\"baxis\":{\"endlinecolor\":\"#2a3f5f\",\"gridcolor\":\"white\",\"linecolor\":\"white\",\"minorgridcolor\":\"white\",\"startlinecolor\":\"#2a3f5f\"},\"type\":\"carpet\"}],\"table\":[{\"cells\":{\"fill\":{\"color\":\"#EBF0F8\"},\"line\":{\"color\":\"white\"}},\"header\":{\"fill\":{\"color\":\"#C8D4E3\"},\"line\":{\"color\":\"white\"}},\"type\":\"table\"}],\"barpolar\":[{\"marker\":{\"line\":{\"color\":\"#E5ECF6\",\"width\":0.5},\"pattern\":{\"fillmode\":\"overlay\",\"size\":10,\"solidity\":0.2}},\"type\":\"barpolar\"}],\"pie\":[{\"automargin\":true,\"type\":\"pie\"}]},\"layout\":{\"autotypenumbers\":\"strict\",\"colorway\":[\"#636efa\",\"#EF553B\",\"#00cc96\",\"#ab63fa\",\"#FFA15A\",\"#19d3f3\",\"#FF6692\",\"#B6E880\",\"#FF97FF\",\"#FECB52\"],\"font\":{\"color\":\"#2a3f5f\"},\"hovermode\":\"closest\",\"hoverlabel\":{\"align\":\"left\"},\"paper_bgcolor\":\"white\",\"plot_bgcolor\":\"#E5ECF6\",\"polar\":{\"bgcolor\":\"#E5ECF6\",\"angularaxis\":{\"gridcolor\":\"white\",\"linecolor\":\"white\",\"ticks\":\"\"},\"radialaxis\":{\"gridcolor\":\"white\",\"linecolor\":\"white\",\"ticks\":\"\"}},\"ternary\":{\"bgcolor\":\"#E5ECF6\",\"aaxis\":{\"gridcolor\":\"white\",\"linecolor\":\"white\",\"ticks\":\"\"},\"baxis\":{\"gridcolor\":\"white\",\"linecolor\":\"white\",\"ticks\":\"\"},\"caxis\":{\"gridcolor\":\"white\",\"linecolor\":\"white\",\"ticks\":\"\"}},\"coloraxis\":{\"colorbar\":{\"outlinewidth\":0,\"ticks\":\"\"}},\"colorscale\":{\"sequential\":[[0.0,\"#0d0887\"],[0.1111111111111111,\"#46039f\"],[0.2222222222222222,\"#7201a8\"],[0.3333333333333333,\"#9c179e\"],[0.4444444444444444,\"#bd3786\"],[0.5555555555555556,\"#d8576b\"],[0.6666666666666666,\"#ed7953\"],[0.7777777777777778,\"#fb9f3a\"],[0.8888888888888888,\"#fdca26\"],[1.0,\"#f0f921\"]],\"sequentialminus\":[[0.0,\"#0d0887\"],[0.1111111111111111,\"#46039f\"],[0.2222222222222222,\"#7201a8\"],[0.3333333333333333,\"#9c179e\"],[0.4444444444444444,\"#bd3786\"],[0.5555555555555556,\"#d8576b\"],[0.6666666666666666,\"#ed7953\"],[0.7777777777777778,\"#fb9f3a\"],[0.8888888888888888,\"#fdca26\"],[1.0,\"#f0f921\"]],\"diverging\":[[0,\"#8e0152\"],[0.1,\"#c51b7d\"],[0.2,\"#de77ae\"],[0.3,\"#f1b6da\"],[0.4,\"#fde0ef\"],[0.5,\"#f7f7f7\"],[0.6,\"#e6f5d0\"],[0.7,\"#b8e186\"],[0.8,\"#7fbc41\"],[0.9,\"#4d9221\"],[1,\"#276419\"]]},\"xaxis\":{\"gridcolor\":\"white\",\"linecolor\":\"white\",\"ticks\":\"\",\"title\":{\"standoff\":15},\"zerolinecolor\":\"white\",\"automargin\":true,\"zerolinewidth\":2},\"yaxis\":{\"gridcolor\":\"white\",\"linecolor\":\"white\",\"ticks\":\"\",\"title\":{\"standoff\":15},\"zerolinecolor\":\"white\",\"automargin\":true,\"zerolinewidth\":2},\"scene\":{\"xaxis\":{\"backgroundcolor\":\"#E5ECF6\",\"gridcolor\":\"white\",\"linecolor\":\"white\",\"showbackground\":true,\"ticks\":\"\",\"zerolinecolor\":\"white\",\"gridwidth\":2},\"yaxis\":{\"backgroundcolor\":\"#E5ECF6\",\"gridcolor\":\"white\",\"linecolor\":\"white\",\"showbackground\":true,\"ticks\":\"\",\"zerolinecolor\":\"white\",\"gridwidth\":2},\"zaxis\":{\"backgroundcolor\":\"#E5ECF6\",\"gridcolor\":\"white\",\"linecolor\":\"white\",\"showbackground\":true,\"ticks\":\"\",\"zerolinecolor\":\"white\",\"gridwidth\":2}},\"shapedefaults\":{\"line\":{\"color\":\"#2a3f5f\"}},\"annotationdefaults\":{\"arrowcolor\":\"#2a3f5f\",\"arrowhead\":0,\"arrowwidth\":1},\"geo\":{\"bgcolor\":\"white\",\"landcolor\":\"#E5ECF6\",\"subunitcolor\":\"white\",\"showland\":true,\"showlakes\":true,\"lakecolor\":\"white\"},\"title\":{\"x\":0.05},\"mapbox\":{\"style\":\"light\"}}},\"xaxis\":{\"anchor\":\"y\",\"domain\":[0.0,1.0],\"title\":{\"text\":\"Longitude\"}},\"yaxis\":{\"anchor\":\"x\",\"domain\":[0.0,1.0],\"title\":{\"text\":\"Latitude\"}},\"legend\":{\"tracegroupgap\":0},\"margin\":{\"t\":60}},                        {\"responsive\": true}                    ).then(function(){\n",
       "                            \n",
       "var gd = document.getElementById('84a73d57-f446-41b8-9b58-134f508bc82e');\n",
       "var x = new MutationObserver(function (mutations, observer) {{\n",
       "        var display = window.getComputedStyle(gd).display;\n",
       "        if (!display || display === 'none') {{\n",
       "            console.log([gd, 'removed!']);\n",
       "            Plotly.purge(gd);\n",
       "            observer.disconnect();\n",
       "        }}\n",
       "}});\n",
       "\n",
       "// Listen for the removal of the full notebook cells\n",
       "var notebookContainer = gd.closest('#notebook-container');\n",
       "if (notebookContainer) {{\n",
       "    x.observe(notebookContainer, {childList: true});\n",
       "}}\n",
       "\n",
       "// Listen for the clearing of the current output cell\n",
       "var outputEl = gd.closest('.output');\n",
       "if (outputEl) {{\n",
       "    x.observe(outputEl, {childList: true});\n",
       "}}\n",
       "\n",
       "                        })                };                });            </script>        </div>"
      ]
     },
     "metadata": {},
     "output_type": "display_data"
    }
   ],
   "source": [
    "px.scatter(lon_lat, x='Longitude', y='Latitude')"
   ]
  },
  {
   "cell_type": "markdown",
   "metadata": {},
   "source": [
    "## Select the features"
   ]
  },
  {
   "cell_type": "markdown",
   "metadata": {},
   "source": [
    "Create a copy of that data and remove all parameters apart from <i>Longitude</i> and <i>Latitude</i>."
   ]
  },
  {
   "cell_type": "code",
   "execution_count": 23,
   "metadata": {},
   "outputs": [],
   "source": [
    "X = lon_lat"
   ]
  },
  {
   "cell_type": "markdown",
   "metadata": {},
   "source": [
    "## Clustering"
   ]
  },
  {
   "cell_type": "markdown",
   "metadata": {},
   "source": [
    "Assume there are only two clusters. "
   ]
  },
  {
   "cell_type": "code",
   "execution_count": 34,
   "metadata": {},
   "outputs": [],
   "source": [
    "cluster_2 = KMeans(8)"
   ]
  },
  {
   "cell_type": "code",
   "execution_count": 35,
   "metadata": {},
   "outputs": [
    {
     "name": "stderr",
     "output_type": "stream",
     "text": [
      "C:\\Users\\Jae-EunPark\\anaconda3\\Lib\\site-packages\\sklearn\\cluster\\_kmeans.py:1429: UserWarning:\n",
      "\n",
      "KMeans is known to have a memory leak on Windows with MKL, when there are less chunks than available threads. You can avoid it by setting the environment variable OMP_NUM_THREADS=1.\n",
      "\n"
     ]
    },
    {
     "data": {
      "text/html": [
       "<style>#sk-container-id-3 {\n",
       "  /* Definition of color scheme common for light and dark mode */\n",
       "  --sklearn-color-text: black;\n",
       "  --sklearn-color-line: gray;\n",
       "  /* Definition of color scheme for unfitted estimators */\n",
       "  --sklearn-color-unfitted-level-0: #fff5e6;\n",
       "  --sklearn-color-unfitted-level-1: #f6e4d2;\n",
       "  --sklearn-color-unfitted-level-2: #ffe0b3;\n",
       "  --sklearn-color-unfitted-level-3: chocolate;\n",
       "  /* Definition of color scheme for fitted estimators */\n",
       "  --sklearn-color-fitted-level-0: #f0f8ff;\n",
       "  --sklearn-color-fitted-level-1: #d4ebff;\n",
       "  --sklearn-color-fitted-level-2: #b3dbfd;\n",
       "  --sklearn-color-fitted-level-3: cornflowerblue;\n",
       "\n",
       "  /* Specific color for light theme */\n",
       "  --sklearn-color-text-on-default-background: var(--sg-text-color, var(--theme-code-foreground, var(--jp-content-font-color1, black)));\n",
       "  --sklearn-color-background: var(--sg-background-color, var(--theme-background, var(--jp-layout-color0, white)));\n",
       "  --sklearn-color-border-box: var(--sg-text-color, var(--theme-code-foreground, var(--jp-content-font-color1, black)));\n",
       "  --sklearn-color-icon: #696969;\n",
       "\n",
       "  @media (prefers-color-scheme: dark) {\n",
       "    /* Redefinition of color scheme for dark theme */\n",
       "    --sklearn-color-text-on-default-background: var(--sg-text-color, var(--theme-code-foreground, var(--jp-content-font-color1, white)));\n",
       "    --sklearn-color-background: var(--sg-background-color, var(--theme-background, var(--jp-layout-color0, #111)));\n",
       "    --sklearn-color-border-box: var(--sg-text-color, var(--theme-code-foreground, var(--jp-content-font-color1, white)));\n",
       "    --sklearn-color-icon: #878787;\n",
       "  }\n",
       "}\n",
       "\n",
       "#sk-container-id-3 {\n",
       "  color: var(--sklearn-color-text);\n",
       "}\n",
       "\n",
       "#sk-container-id-3 pre {\n",
       "  padding: 0;\n",
       "}\n",
       "\n",
       "#sk-container-id-3 input.sk-hidden--visually {\n",
       "  border: 0;\n",
       "  clip: rect(1px 1px 1px 1px);\n",
       "  clip: rect(1px, 1px, 1px, 1px);\n",
       "  height: 1px;\n",
       "  margin: -1px;\n",
       "  overflow: hidden;\n",
       "  padding: 0;\n",
       "  position: absolute;\n",
       "  width: 1px;\n",
       "}\n",
       "\n",
       "#sk-container-id-3 div.sk-dashed-wrapped {\n",
       "  border: 1px dashed var(--sklearn-color-line);\n",
       "  margin: 0 0.4em 0.5em 0.4em;\n",
       "  box-sizing: border-box;\n",
       "  padding-bottom: 0.4em;\n",
       "  background-color: var(--sklearn-color-background);\n",
       "}\n",
       "\n",
       "#sk-container-id-3 div.sk-container {\n",
       "  /* jupyter's `normalize.less` sets `[hidden] { display: none; }`\n",
       "     but bootstrap.min.css set `[hidden] { display: none !important; }`\n",
       "     so we also need the `!important` here to be able to override the\n",
       "     default hidden behavior on the sphinx rendered scikit-learn.org.\n",
       "     See: https://github.com/scikit-learn/scikit-learn/issues/21755 */\n",
       "  display: inline-block !important;\n",
       "  position: relative;\n",
       "}\n",
       "\n",
       "#sk-container-id-3 div.sk-text-repr-fallback {\n",
       "  display: none;\n",
       "}\n",
       "\n",
       "div.sk-parallel-item,\n",
       "div.sk-serial,\n",
       "div.sk-item {\n",
       "  /* draw centered vertical line to link estimators */\n",
       "  background-image: linear-gradient(var(--sklearn-color-text-on-default-background), var(--sklearn-color-text-on-default-background));\n",
       "  background-size: 2px 100%;\n",
       "  background-repeat: no-repeat;\n",
       "  background-position: center center;\n",
       "}\n",
       "\n",
       "/* Parallel-specific style estimator block */\n",
       "\n",
       "#sk-container-id-3 div.sk-parallel-item::after {\n",
       "  content: \"\";\n",
       "  width: 100%;\n",
       "  border-bottom: 2px solid var(--sklearn-color-text-on-default-background);\n",
       "  flex-grow: 1;\n",
       "}\n",
       "\n",
       "#sk-container-id-3 div.sk-parallel {\n",
       "  display: flex;\n",
       "  align-items: stretch;\n",
       "  justify-content: center;\n",
       "  background-color: var(--sklearn-color-background);\n",
       "  position: relative;\n",
       "}\n",
       "\n",
       "#sk-container-id-3 div.sk-parallel-item {\n",
       "  display: flex;\n",
       "  flex-direction: column;\n",
       "}\n",
       "\n",
       "#sk-container-id-3 div.sk-parallel-item:first-child::after {\n",
       "  align-self: flex-end;\n",
       "  width: 50%;\n",
       "}\n",
       "\n",
       "#sk-container-id-3 div.sk-parallel-item:last-child::after {\n",
       "  align-self: flex-start;\n",
       "  width: 50%;\n",
       "}\n",
       "\n",
       "#sk-container-id-3 div.sk-parallel-item:only-child::after {\n",
       "  width: 0;\n",
       "}\n",
       "\n",
       "/* Serial-specific style estimator block */\n",
       "\n",
       "#sk-container-id-3 div.sk-serial {\n",
       "  display: flex;\n",
       "  flex-direction: column;\n",
       "  align-items: center;\n",
       "  background-color: var(--sklearn-color-background);\n",
       "  padding-right: 1em;\n",
       "  padding-left: 1em;\n",
       "}\n",
       "\n",
       "\n",
       "/* Toggleable style: style used for estimator/Pipeline/ColumnTransformer box that is\n",
       "clickable and can be expanded/collapsed.\n",
       "- Pipeline and ColumnTransformer use this feature and define the default style\n",
       "- Estimators will overwrite some part of the style using the `sk-estimator` class\n",
       "*/\n",
       "\n",
       "/* Pipeline and ColumnTransformer style (default) */\n",
       "\n",
       "#sk-container-id-3 div.sk-toggleable {\n",
       "  /* Default theme specific background. It is overwritten whether we have a\n",
       "  specific estimator or a Pipeline/ColumnTransformer */\n",
       "  background-color: var(--sklearn-color-background);\n",
       "}\n",
       "\n",
       "/* Toggleable label */\n",
       "#sk-container-id-3 label.sk-toggleable__label {\n",
       "  cursor: pointer;\n",
       "  display: block;\n",
       "  width: 100%;\n",
       "  margin-bottom: 0;\n",
       "  padding: 0.5em;\n",
       "  box-sizing: border-box;\n",
       "  text-align: center;\n",
       "}\n",
       "\n",
       "#sk-container-id-3 label.sk-toggleable__label-arrow:before {\n",
       "  /* Arrow on the left of the label */\n",
       "  content: \"▸\";\n",
       "  float: left;\n",
       "  margin-right: 0.25em;\n",
       "  color: var(--sklearn-color-icon);\n",
       "}\n",
       "\n",
       "#sk-container-id-3 label.sk-toggleable__label-arrow:hover:before {\n",
       "  color: var(--sklearn-color-text);\n",
       "}\n",
       "\n",
       "/* Toggleable content - dropdown */\n",
       "\n",
       "#sk-container-id-3 div.sk-toggleable__content {\n",
       "  max-height: 0;\n",
       "  max-width: 0;\n",
       "  overflow: hidden;\n",
       "  text-align: left;\n",
       "  /* unfitted */\n",
       "  background-color: var(--sklearn-color-unfitted-level-0);\n",
       "}\n",
       "\n",
       "#sk-container-id-3 div.sk-toggleable__content.fitted {\n",
       "  /* fitted */\n",
       "  background-color: var(--sklearn-color-fitted-level-0);\n",
       "}\n",
       "\n",
       "#sk-container-id-3 div.sk-toggleable__content pre {\n",
       "  margin: 0.2em;\n",
       "  border-radius: 0.25em;\n",
       "  color: var(--sklearn-color-text);\n",
       "  /* unfitted */\n",
       "  background-color: var(--sklearn-color-unfitted-level-0);\n",
       "}\n",
       "\n",
       "#sk-container-id-3 div.sk-toggleable__content.fitted pre {\n",
       "  /* unfitted */\n",
       "  background-color: var(--sklearn-color-fitted-level-0);\n",
       "}\n",
       "\n",
       "#sk-container-id-3 input.sk-toggleable__control:checked~div.sk-toggleable__content {\n",
       "  /* Expand drop-down */\n",
       "  max-height: 200px;\n",
       "  max-width: 100%;\n",
       "  overflow: auto;\n",
       "}\n",
       "\n",
       "#sk-container-id-3 input.sk-toggleable__control:checked~label.sk-toggleable__label-arrow:before {\n",
       "  content: \"▾\";\n",
       "}\n",
       "\n",
       "/* Pipeline/ColumnTransformer-specific style */\n",
       "\n",
       "#sk-container-id-3 div.sk-label input.sk-toggleable__control:checked~label.sk-toggleable__label {\n",
       "  color: var(--sklearn-color-text);\n",
       "  background-color: var(--sklearn-color-unfitted-level-2);\n",
       "}\n",
       "\n",
       "#sk-container-id-3 div.sk-label.fitted input.sk-toggleable__control:checked~label.sk-toggleable__label {\n",
       "  background-color: var(--sklearn-color-fitted-level-2);\n",
       "}\n",
       "\n",
       "/* Estimator-specific style */\n",
       "\n",
       "/* Colorize estimator box */\n",
       "#sk-container-id-3 div.sk-estimator input.sk-toggleable__control:checked~label.sk-toggleable__label {\n",
       "  /* unfitted */\n",
       "  background-color: var(--sklearn-color-unfitted-level-2);\n",
       "}\n",
       "\n",
       "#sk-container-id-3 div.sk-estimator.fitted input.sk-toggleable__control:checked~label.sk-toggleable__label {\n",
       "  /* fitted */\n",
       "  background-color: var(--sklearn-color-fitted-level-2);\n",
       "}\n",
       "\n",
       "#sk-container-id-3 div.sk-label label.sk-toggleable__label,\n",
       "#sk-container-id-3 div.sk-label label {\n",
       "  /* The background is the default theme color */\n",
       "  color: var(--sklearn-color-text-on-default-background);\n",
       "}\n",
       "\n",
       "/* On hover, darken the color of the background */\n",
       "#sk-container-id-3 div.sk-label:hover label.sk-toggleable__label {\n",
       "  color: var(--sklearn-color-text);\n",
       "  background-color: var(--sklearn-color-unfitted-level-2);\n",
       "}\n",
       "\n",
       "/* Label box, darken color on hover, fitted */\n",
       "#sk-container-id-3 div.sk-label.fitted:hover label.sk-toggleable__label.fitted {\n",
       "  color: var(--sklearn-color-text);\n",
       "  background-color: var(--sklearn-color-fitted-level-2);\n",
       "}\n",
       "\n",
       "/* Estimator label */\n",
       "\n",
       "#sk-container-id-3 div.sk-label label {\n",
       "  font-family: monospace;\n",
       "  font-weight: bold;\n",
       "  display: inline-block;\n",
       "  line-height: 1.2em;\n",
       "}\n",
       "\n",
       "#sk-container-id-3 div.sk-label-container {\n",
       "  text-align: center;\n",
       "}\n",
       "\n",
       "/* Estimator-specific */\n",
       "#sk-container-id-3 div.sk-estimator {\n",
       "  font-family: monospace;\n",
       "  border: 1px dotted var(--sklearn-color-border-box);\n",
       "  border-radius: 0.25em;\n",
       "  box-sizing: border-box;\n",
       "  margin-bottom: 0.5em;\n",
       "  /* unfitted */\n",
       "  background-color: var(--sklearn-color-unfitted-level-0);\n",
       "}\n",
       "\n",
       "#sk-container-id-3 div.sk-estimator.fitted {\n",
       "  /* fitted */\n",
       "  background-color: var(--sklearn-color-fitted-level-0);\n",
       "}\n",
       "\n",
       "/* on hover */\n",
       "#sk-container-id-3 div.sk-estimator:hover {\n",
       "  /* unfitted */\n",
       "  background-color: var(--sklearn-color-unfitted-level-2);\n",
       "}\n",
       "\n",
       "#sk-container-id-3 div.sk-estimator.fitted:hover {\n",
       "  /* fitted */\n",
       "  background-color: var(--sklearn-color-fitted-level-2);\n",
       "}\n",
       "\n",
       "/* Specification for estimator info (e.g. \"i\" and \"?\") */\n",
       "\n",
       "/* Common style for \"i\" and \"?\" */\n",
       "\n",
       ".sk-estimator-doc-link,\n",
       "a:link.sk-estimator-doc-link,\n",
       "a:visited.sk-estimator-doc-link {\n",
       "  float: right;\n",
       "  font-size: smaller;\n",
       "  line-height: 1em;\n",
       "  font-family: monospace;\n",
       "  background-color: var(--sklearn-color-background);\n",
       "  border-radius: 1em;\n",
       "  height: 1em;\n",
       "  width: 1em;\n",
       "  text-decoration: none !important;\n",
       "  margin-left: 1ex;\n",
       "  /* unfitted */\n",
       "  border: var(--sklearn-color-unfitted-level-1) 1pt solid;\n",
       "  color: var(--sklearn-color-unfitted-level-1);\n",
       "}\n",
       "\n",
       ".sk-estimator-doc-link.fitted,\n",
       "a:link.sk-estimator-doc-link.fitted,\n",
       "a:visited.sk-estimator-doc-link.fitted {\n",
       "  /* fitted */\n",
       "  border: var(--sklearn-color-fitted-level-1) 1pt solid;\n",
       "  color: var(--sklearn-color-fitted-level-1);\n",
       "}\n",
       "\n",
       "/* On hover */\n",
       "div.sk-estimator:hover .sk-estimator-doc-link:hover,\n",
       ".sk-estimator-doc-link:hover,\n",
       "div.sk-label-container:hover .sk-estimator-doc-link:hover,\n",
       ".sk-estimator-doc-link:hover {\n",
       "  /* unfitted */\n",
       "  background-color: var(--sklearn-color-unfitted-level-3);\n",
       "  color: var(--sklearn-color-background);\n",
       "  text-decoration: none;\n",
       "}\n",
       "\n",
       "div.sk-estimator.fitted:hover .sk-estimator-doc-link.fitted:hover,\n",
       ".sk-estimator-doc-link.fitted:hover,\n",
       "div.sk-label-container:hover .sk-estimator-doc-link.fitted:hover,\n",
       ".sk-estimator-doc-link.fitted:hover {\n",
       "  /* fitted */\n",
       "  background-color: var(--sklearn-color-fitted-level-3);\n",
       "  color: var(--sklearn-color-background);\n",
       "  text-decoration: none;\n",
       "}\n",
       "\n",
       "/* Span, style for the box shown on hovering the info icon */\n",
       ".sk-estimator-doc-link span {\n",
       "  display: none;\n",
       "  z-index: 9999;\n",
       "  position: relative;\n",
       "  font-weight: normal;\n",
       "  right: .2ex;\n",
       "  padding: .5ex;\n",
       "  margin: .5ex;\n",
       "  width: min-content;\n",
       "  min-width: 20ex;\n",
       "  max-width: 50ex;\n",
       "  color: var(--sklearn-color-text);\n",
       "  box-shadow: 2pt 2pt 4pt #999;\n",
       "  /* unfitted */\n",
       "  background: var(--sklearn-color-unfitted-level-0);\n",
       "  border: .5pt solid var(--sklearn-color-unfitted-level-3);\n",
       "}\n",
       "\n",
       ".sk-estimator-doc-link.fitted span {\n",
       "  /* fitted */\n",
       "  background: var(--sklearn-color-fitted-level-0);\n",
       "  border: var(--sklearn-color-fitted-level-3);\n",
       "}\n",
       "\n",
       ".sk-estimator-doc-link:hover span {\n",
       "  display: block;\n",
       "}\n",
       "\n",
       "/* \"?\"-specific style due to the `<a>` HTML tag */\n",
       "\n",
       "#sk-container-id-3 a.estimator_doc_link {\n",
       "  float: right;\n",
       "  font-size: 1rem;\n",
       "  line-height: 1em;\n",
       "  font-family: monospace;\n",
       "  background-color: var(--sklearn-color-background);\n",
       "  border-radius: 1rem;\n",
       "  height: 1rem;\n",
       "  width: 1rem;\n",
       "  text-decoration: none;\n",
       "  /* unfitted */\n",
       "  color: var(--sklearn-color-unfitted-level-1);\n",
       "  border: var(--sklearn-color-unfitted-level-1) 1pt solid;\n",
       "}\n",
       "\n",
       "#sk-container-id-3 a.estimator_doc_link.fitted {\n",
       "  /* fitted */\n",
       "  border: var(--sklearn-color-fitted-level-1) 1pt solid;\n",
       "  color: var(--sklearn-color-fitted-level-1);\n",
       "}\n",
       "\n",
       "/* On hover */\n",
       "#sk-container-id-3 a.estimator_doc_link:hover {\n",
       "  /* unfitted */\n",
       "  background-color: var(--sklearn-color-unfitted-level-3);\n",
       "  color: var(--sklearn-color-background);\n",
       "  text-decoration: none;\n",
       "}\n",
       "\n",
       "#sk-container-id-3 a.estimator_doc_link.fitted:hover {\n",
       "  /* fitted */\n",
       "  background-color: var(--sklearn-color-fitted-level-3);\n",
       "}\n",
       "</style><div id=\"sk-container-id-3\" class=\"sk-top-container\"><div class=\"sk-text-repr-fallback\"><pre>KMeans()</pre><b>In a Jupyter environment, please rerun this cell to show the HTML representation or trust the notebook. <br />On GitHub, the HTML representation is unable to render, please try loading this page with nbviewer.org.</b></div><div class=\"sk-container\" hidden><div class=\"sk-item\"><div class=\"sk-estimator fitted sk-toggleable\"><input class=\"sk-toggleable__control sk-hidden--visually\" id=\"sk-estimator-id-3\" type=\"checkbox\" checked><label for=\"sk-estimator-id-3\" class=\"sk-toggleable__label fitted sk-toggleable__label-arrow fitted\">&nbsp;&nbsp;KMeans<a class=\"sk-estimator-doc-link fitted\" rel=\"noreferrer\" target=\"_blank\" href=\"https://scikit-learn.org/1.5/modules/generated/sklearn.cluster.KMeans.html\">?<span>Documentation for KMeans</span></a><span class=\"sk-estimator-doc-link fitted\">i<span>Fitted</span></span></label><div class=\"sk-toggleable__content fitted\"><pre>KMeans()</pre></div> </div></div></div></div>"
      ],
      "text/plain": [
       "KMeans()"
      ]
     },
     "execution_count": 35,
     "metadata": {},
     "output_type": "execute_result"
    }
   ],
   "source": [
    "cluster_2.fit(X)"
   ]
  },
  {
   "cell_type": "code",
   "execution_count": 36,
   "metadata": {},
   "outputs": [
    {
     "name": "stderr",
     "output_type": "stream",
     "text": [
      "C:\\Users\\Jae-EunPark\\anaconda3\\Lib\\site-packages\\sklearn\\cluster\\_kmeans.py:1429: UserWarning:\n",
      "\n",
      "KMeans is known to have a memory leak on Windows with MKL, when there are less chunks than available threads. You can avoid it by setting the environment variable OMP_NUM_THREADS=1.\n",
      "\n"
     ]
    },
    {
     "data": {
      "text/plain": [
       "array([6, 2, 1, 6, 5, 5, 5, 2, 0, 2, 4, 1, 3, 1, 6, 7, 5, 2, 1, 5, 5, 5,\n",
       "       3, 5, 2, 6, 6, 5, 6, 5, 6, 6, 0, 0, 6, 3, 3, 1, 1, 5, 0, 3, 5, 1,\n",
       "       1, 1, 4, 6, 1, 5, 6, 6, 6, 6, 2, 2, 5, 5, 2, 6, 5, 6, 5, 6, 2, 2,\n",
       "       5, 5, 1, 5, 7, 0, 5, 5, 7, 1, 5, 2, 5, 5, 5, 5, 5, 1, 5, 6, 5, 6,\n",
       "       7, 6, 3, 1, 6, 5, 6, 5, 3, 5, 3, 3, 1, 5, 2, 2, 5, 2, 5, 6, 5, 2,\n",
       "       3, 2, 2, 1, 2, 3, 0, 6, 3, 5, 2, 3, 2, 5, 5, 6, 5, 3, 1, 5, 5, 5,\n",
       "       3, 6, 5, 5, 5, 1, 2, 6, 7, 5, 5, 5, 3, 5, 3, 7, 1, 5, 6, 1, 1, 3,\n",
       "       1, 7, 5, 7, 5, 6, 4, 5, 5, 3, 7, 7, 2, 2, 6, 4, 0, 3, 3, 7, 5, 6,\n",
       "       3, 5, 0, 2, 4, 2, 5, 3, 1, 5, 2, 2, 1, 5, 3, 0, 1, 7, 5, 6, 5, 2,\n",
       "       1, 6, 5, 1, 6, 5, 5, 5, 1, 6, 1, 2, 6, 5, 5, 3, 2, 2, 3, 4, 6, 5,\n",
       "       2, 3, 1, 1, 2, 0, 6, 2, 5, 6, 6, 6, 6, 3, 7, 4, 4, 2, 1, 1, 1])"
      ]
     },
     "execution_count": 36,
     "metadata": {},
     "output_type": "execute_result"
    }
   ],
   "source": [
    "cluster_2.fit_predict(X)"
   ]
  },
  {
   "cell_type": "markdown",
   "metadata": {},
   "source": [
    "### Clustering Resutls"
   ]
  },
  {
   "cell_type": "code",
   "execution_count": 37,
   "metadata": {},
   "outputs": [
    {
     "name": "stderr",
     "output_type": "stream",
     "text": [
      "C:\\Users\\Jae-EunPark\\anaconda3\\Lib\\site-packages\\sklearn\\cluster\\_kmeans.py:1429: UserWarning:\n",
      "\n",
      "KMeans is known to have a memory leak on Windows with MKL, when there are less chunks than available threads. You can avoid it by setting the environment variable OMP_NUM_THREADS=1.\n",
      "\n"
     ]
    }
   ],
   "source": [
    "lon_lat['c_group'] = cluster_2.fit_predict(X)"
   ]
  },
  {
   "cell_type": "code",
   "execution_count": 38,
   "metadata": {},
   "outputs": [
    {
     "data": {
      "application/vnd.plotly.v1+json": {
       "config": {
        "plotlyServerURL": "https://plot.ly"
       },
       "data": [
        {
         "hovertemplate": "Longitude=%{x}<br>Latitude=%{y}<br>c_group=%{marker.color}<extra></extra>",
         "legendgroup": "",
         "marker": {
          "color": [
           3,
           1,
           4,
           3,
           5,
           5,
           5,
           4,
           7,
           5,
           2,
           7,
           6,
           4,
           3,
           6,
           5,
           5,
           4,
           5,
           0,
           0,
           1,
           5,
           4,
           3,
           3,
           5,
           3,
           5,
           3,
           3,
           3,
           3,
           3,
           1,
           1,
           4,
           4,
           5,
           7,
           1,
           0,
           0,
           4,
           0,
           2,
           3,
           4,
           0,
           3,
           3,
           3,
           3,
           5,
           5,
           5,
           5,
           4,
           3,
           5,
           3,
           0,
           3,
           5,
           4,
           5,
           5,
           4,
           5,
           6,
           7,
           5,
           5,
           6,
           0,
           5,
           5,
           5,
           0,
           0,
           0,
           0,
           0,
           5,
           3,
           5,
           3,
           6,
           3,
           1,
           4,
           3,
           5,
           3,
           5,
           1,
           5,
           1,
           1,
           4,
           5,
           4,
           5,
           5,
           5,
           5,
           3,
           5,
           5,
           1,
           1,
           1,
           4,
           1,
           1,
           3,
           3,
           1,
           5,
           4,
           1,
           5,
           0,
           5,
           3,
           5,
           1,
           4,
           5,
           5,
           5,
           1,
           3,
           0,
           5,
           5,
           4,
           1,
           3,
           6,
           5,
           0,
           5,
           1,
           5,
           1,
           6,
           4,
           0,
           3,
           4,
           4,
           1,
           4,
           6,
           0,
           6,
           0,
           3,
           2,
           5,
           5,
           1,
           6,
           6,
           4,
           1,
           3,
           2,
           3,
           1,
           6,
           6,
           5,
           3,
           1,
           5,
           7,
           5,
           2,
           4,
           5,
           1,
           4,
           0,
           4,
           4,
           4,
           0,
           1,
           7,
           0,
           6,
           0,
           3,
           5,
           4,
           4,
           3,
           5,
           0,
           3,
           5,
           5,
           5,
           4,
           3,
           4,
           5,
           3,
           0,
           0,
           1,
           1,
           1,
           6,
           2,
           3,
           5,
           5,
           1,
           4,
           4,
           5,
           7,
           3,
           1,
           5,
           3,
           3,
           3,
           3,
           1,
           6,
           2,
           2,
           4,
           4,
           4,
           4
          ],
          "coloraxis": "coloraxis",
          "symbol": "circle"
         },
         "mode": "markers",
         "name": "",
         "orientation": "v",
         "showlegend": false,
         "type": "scatter",
         "x": [
          -69.98267711,
          66.00473366,
          17.53736768,
          -63.06498927,
          20.04983396,
          19.95328768,
          1.56054378,
          54.3001671,
          -65.17980692,
          44.92993276,
          -170.7180258,
          19.92108951,
          123.5838379,
          69.22666758,
          -61.79469343,
          134.4910001,
          14.1264761,
          47.54599879,
          29.87512156,
          4.64065114,
          2.32785254,
          -1.75456601,
          90.23812743,
          25.21552909,
          50.54196932,
          -98.30777028,
          -76.62843038,
          17.76876733,
          -62.84067779,
          28.03209307,
          -88.71010486,
          -64.7545589,
          -64.68538645,
          -53.09783113,
          -59.559797,
          114.7220304,
          90.40188155,
          23.79853368,
          20.46826831,
          8.20867471,
          -71.38256213,
          103.8190735,
          -5.5692157,
          12.73964156,
          23.64396107,
          15.21965762,
          -159.7872422,
          -73.08114582,
          43.68253968,
          -23.9598882,
          -84.19208768,
          -79.01605384,
          -68.97119369,
          -80.91213321,
          33.5684813,
          33.0060022,
          15.31240163,
          10.38578051,
          42.5606754,
          -61.357726,
          10.02800992,
          -70.50568896,
          2.61732301,
          -78.75201922,
          29.86190099,
          38.84617011,
          -3.64755047,
          25.54248537,
          39.60080098,
          26.2746656,
          165.4519543,
          -59.35238956,
          -2.76172945,
          -6.88095423,
          153.2394379,
          11.7886287,
          -2.86563164,
          43.50780252,
          -2.57239064,
          -1.21676566,
          -10.94066612,
          -15.39601295,
          -14.94972445,
          10.34137924,
          22.95555794,
          -61.68220189,
          -41.34191127,
          -90.36482009,
          144.7679102,
          -58.98202459,
          114.1138045,
          73.5205171,
          -86.6151661,
          16.40412899,
          -72.68527509,
          19.39559116,
          117.2401137,
          -4.53873952,
          79.6119761,
          104.851898,
          72.44541229,
          -8.13793569,
          54.27407004,
          43.74353149,
          -18.57396167,
          35.00444693,
          12.07001339,
          -77.31482593,
          -2.12689938,
          36.77136104,
          138.0308956,
          77.18011865,
          67.29149357,
          37.79593973,
          74.54165513,
          104.9069433,
          -45.61110513,
          -62.68755265,
          127.8391609,
          20.87249811,
          47.58700459,
          103.7377241,
          35.88016072,
          -9.32207573,
          18.00866169,
          -60.96969923,
          9.53574312,
          80.70108238,
          28.22723131,
          23.88719355,
          6.07182201,
          24.91235983,
          113.5093212,
          -63.05972851,
          -8.45615795,
          7.40627677,
          28.45673372,
          46.70473674,
          73.45713004,
          -102.5234517,
          170.3397612,
          21.68211346,
          -3.54269065,
          14.40523316,
          96.48843321,
          19.23883939,
          103.0529977,
          145.6196965,
          35.53367543,
          -10.34779815,
          -62.18518546,
          57.57120551,
          34.28935599,
          109.6976228,
          17.20963567,
          165.6849237,
          9.38545882,
          167.9492168,
          8.08943895,
          -85.0305297,
          -169.8699468,
          5.28144793,
          15.34834656,
          83.9158264,
          166.9325682,
          171.4849235,
          56.09166155,
          69.33957937,
          -80.11915156,
          -128.317042,
          -74.38242685,
          122.8839325,
          134.4080797,
          145.2074475,
          19.39012835,
          -66.47307604,
          127.1924797,
          -8.50104361,
          -58.40013703,
          35.19628705,
          -144.9049439,
          51.18479632,
          24.97293039,
          96.68656112,
          29.91988515,
          -12.21982755,
          44.53686271,
          29.94046812,
          30.24790002,
          -14.4734924,
          103.8172559,
          -36.43318388,
          -9.54779416,
          159.6328767,
          -11.79271247,
          -88.87164469,
          12.45922334,
          46.25198395,
          45.70714487,
          -56.30319779,
          20.78958334,
          6.72429658,
          -55.9123457,
          19.47905218,
          14.80444238,
          16.74558049,
          31.4819369,
          -63.05713363,
          55.47603279,
          38.50788204,
          -71.97387881,
          18.64492513,
          0.96232845,
          101.0028813,
          71.01362631,
          59.37100021,
          125.8443898,
          -174.8098734,
          -61.26567923,
          9.55288359,
          35.16895346,
          120.9542728,
          34.81309981,
          32.36907971,
          31.38326469,
          -56.01807053,
          -112.4616737,
          63.14001528,
          12.43387177,
          -61.20129695,
          -66.18184123,
          -64.47146992,
          -64.80301538,
          106.299147,
          167.6864464,
          -177.3483483,
          -172.1648506,
          47.58676189,
          25.08390093,
          27.77475946,
          29.8514412
         ],
         "xaxis": "x",
         "y": [
          12.52088038,
          33.83523073,
          -12.29336054,
          18.2239595,
          41.14244989,
          60.21488688,
          42.54229102,
          23.90528188,
          -35.3813488,
          40.28952569,
          -14.30445997,
          -80.50857913,
          -12.42993164,
          -49.24895485,
          17.2774996,
          -25.73288704,
          47.58549439,
          40.28827235,
          -3.35939666,
          50.63981576,
          9.6417597,
          12.26953846,
          23.86731158,
          42.76890318,
          26.04205135,
          61.36206324,
          24.29036702,
          44.17450125,
          17.89880451,
          53.53131377,
          17.20027509,
          32.31367802,
          -16.70814787,
          -10.78777702,
          13.18145428,
          4.51968958,
          27.41106589,
          -22.18403213,
          6.56823297,
          46.79785878,
          -37.73070989,
          36.56176546,
          7.6284262,
          5.69109849,
          -2.87746289,
          -0.83787463,
          -21.21927288,
          3.91383431,
          -11.87783444,
          15.95523324,
          9.97634464,
          21.62289528,
          12.19551675,
          19.42896497,
          35.26277486,
          34.91667211,
          49.73341233,
          51.10698181,
          11.74871806,
          15.4394702,
          55.98125296,
          18.89433082,
          28.15893849,
          -1.42381612,
          26.49593311,
          15.36186618,
          40.24448698,
          58.67192972,
          8.62278679,
          64.49884603,
          -17.42858032,
          -51.74483954,
          42.17344011,
          62.05385403,
          7.45246814,
          -0.58660025,
          54.12387156,
          42.16855755,
          49.46809761,
          7.95345644,
          10.43621593,
          13.44965244,
          12.04744948,
          1.70555135,
          39.07469623,
          12.11725044,
          74.71051289,
          15.69403664,
          13.44165626,
          4.79378034,
          22.39827737,
          -53.08724656,
          14.82688165,
          45.08047631,
          18.93502563,
          47.16277506,
          -2.21505456,
          54.22418911,
          22.88578212,
          -10.6478515,
          -7.33059751,
          53.1754487,
          32.57503292,
          33.03970582,
          64.99575386,
          31.46110101,
          42.79662641,
          18.15694878,
          49.21837377,
          31.24579091,
          37.59230135,
          35.39236325,
          48.15688067,
          0.59988022,
          41.46221943,
          12.72004786,
          0.86001503,
          17.2645995,
          36.38523983,
          42.57078707,
          29.33431262,
          18.50217433,
          33.92306631,
          6.45278492,
          27.03094495,
          13.89479481,
          47.13665835,
          7.61266509,
          -29.58003188,
          55.32610984,
          49.76725361,
          56.85085163,
          22.22311688,
          18.08888611,
          29.83762955,
          43.75274627,
          47.19498804,
          -19.37189587,
          3.7287092,
          23.94753724,
          7.00376358,
          41.59530893,
          17.34581581,
          35.92149632,
          21.18566599,
          42.78890259,
          46.82681544,
          15.82927563,
          -17.27381643,
          20.25736706,
          16.73941406,
          -20.27768704,
          -13.21808088,
          3.78986846,
          -22.13032568,
          -21.29991806,
          17.41912493,
          -29.0514609,
          9.59411452,
          12.84709429,
          -19.04945708,
          52.1007899,
          68.75015572,
          28.24891365,
          -0.51912639,
          -41.81113557,
          20.60515333,
          29.9497515,
          8.51750797,
          -24.36500535,
          -9.15280381,
          11.77536778,
          7.28742784,
          -6.46416646,
          52.12759564,
          18.22813055,
          40.15350311,
          39.59550671,
          -23.22823913,
          31.91613893,
          -14.72227409,
          25.30601188,
          45.85243127,
          61.98052209,
          -1.99033832,
          24.22956739,
          24.12245841,
          15.99035669,
          7.30877945,
          14.36624173,
          1.35876087,
          -54.46488248,
          -12.40355951,
          -8.92178022,
          8.56329593,
          13.73943744,
          43.94186747,
          9.73345496,
          4.75062876,
          46.91918789,
          44.2215032,
          0.44391445,
          4.13055413,
          48.70547528,
          46.11554772,
          62.77966519,
          -26.55843045,
          18.05081728,
          -4.66099094,
          35.02547389,
          21.83047572,
          15.33333758,
          8.52531356,
          15.11815794,
          38.5304539,
          39.11554137,
          -8.82889162,
          -20.42843174,
          10.45733408,
          34.11956246,
          39.0616029,
          23.7539928,
          -6.27565408,
          1.27469299,
          48.99656673,
          -32.79951534,
          45.6795472,
          41.75554225,
          41.90174985,
          13.22472269,
          7.12422421,
          18.52585755,
          17.95500624,
          16.6460167,
          -16.22640909,
          -13.88737039,
          -13.75324346,
          15.90928005,
          -29.00034095,
          -13.45824152,
          -19.00420419
         ],
         "yaxis": "y"
        }
       ],
       "layout": {
        "autosize": true,
        "coloraxis": {
         "colorbar": {
          "title": {
           "text": "c_group"
          }
         },
         "colorscale": [
          [
           0,
           "#0d0887"
          ],
          [
           0.1111111111111111,
           "#46039f"
          ],
          [
           0.2222222222222222,
           "#7201a8"
          ],
          [
           0.3333333333333333,
           "#9c179e"
          ],
          [
           0.4444444444444444,
           "#bd3786"
          ],
          [
           0.5555555555555556,
           "#d8576b"
          ],
          [
           0.6666666666666666,
           "#ed7953"
          ],
          [
           0.7777777777777778,
           "#fb9f3a"
          ],
          [
           0.8888888888888888,
           "#fdca26"
          ],
          [
           1,
           "#f0f921"
          ]
         ]
        },
        "legend": {
         "tracegroupgap": 0
        },
        "margin": {
         "t": 60
        },
        "template": {
         "data": {
          "bar": [
           {
            "error_x": {
             "color": "#2a3f5f"
            },
            "error_y": {
             "color": "#2a3f5f"
            },
            "marker": {
             "line": {
              "color": "#E5ECF6",
              "width": 0.5
             },
             "pattern": {
              "fillmode": "overlay",
              "size": 10,
              "solidity": 0.2
             }
            },
            "type": "bar"
           }
          ],
          "barpolar": [
           {
            "marker": {
             "line": {
              "color": "#E5ECF6",
              "width": 0.5
             },
             "pattern": {
              "fillmode": "overlay",
              "size": 10,
              "solidity": 0.2
             }
            },
            "type": "barpolar"
           }
          ],
          "carpet": [
           {
            "aaxis": {
             "endlinecolor": "#2a3f5f",
             "gridcolor": "white",
             "linecolor": "white",
             "minorgridcolor": "white",
             "startlinecolor": "#2a3f5f"
            },
            "baxis": {
             "endlinecolor": "#2a3f5f",
             "gridcolor": "white",
             "linecolor": "white",
             "minorgridcolor": "white",
             "startlinecolor": "#2a3f5f"
            },
            "type": "carpet"
           }
          ],
          "choropleth": [
           {
            "colorbar": {
             "outlinewidth": 0,
             "ticks": ""
            },
            "type": "choropleth"
           }
          ],
          "contour": [
           {
            "colorbar": {
             "outlinewidth": 0,
             "ticks": ""
            },
            "colorscale": [
             [
              0,
              "#0d0887"
             ],
             [
              0.1111111111111111,
              "#46039f"
             ],
             [
              0.2222222222222222,
              "#7201a8"
             ],
             [
              0.3333333333333333,
              "#9c179e"
             ],
             [
              0.4444444444444444,
              "#bd3786"
             ],
             [
              0.5555555555555556,
              "#d8576b"
             ],
             [
              0.6666666666666666,
              "#ed7953"
             ],
             [
              0.7777777777777778,
              "#fb9f3a"
             ],
             [
              0.8888888888888888,
              "#fdca26"
             ],
             [
              1,
              "#f0f921"
             ]
            ],
            "type": "contour"
           }
          ],
          "contourcarpet": [
           {
            "colorbar": {
             "outlinewidth": 0,
             "ticks": ""
            },
            "type": "contourcarpet"
           }
          ],
          "heatmap": [
           {
            "colorbar": {
             "outlinewidth": 0,
             "ticks": ""
            },
            "colorscale": [
             [
              0,
              "#0d0887"
             ],
             [
              0.1111111111111111,
              "#46039f"
             ],
             [
              0.2222222222222222,
              "#7201a8"
             ],
             [
              0.3333333333333333,
              "#9c179e"
             ],
             [
              0.4444444444444444,
              "#bd3786"
             ],
             [
              0.5555555555555556,
              "#d8576b"
             ],
             [
              0.6666666666666666,
              "#ed7953"
             ],
             [
              0.7777777777777778,
              "#fb9f3a"
             ],
             [
              0.8888888888888888,
              "#fdca26"
             ],
             [
              1,
              "#f0f921"
             ]
            ],
            "type": "heatmap"
           }
          ],
          "heatmapgl": [
           {
            "colorbar": {
             "outlinewidth": 0,
             "ticks": ""
            },
            "colorscale": [
             [
              0,
              "#0d0887"
             ],
             [
              0.1111111111111111,
              "#46039f"
             ],
             [
              0.2222222222222222,
              "#7201a8"
             ],
             [
              0.3333333333333333,
              "#9c179e"
             ],
             [
              0.4444444444444444,
              "#bd3786"
             ],
             [
              0.5555555555555556,
              "#d8576b"
             ],
             [
              0.6666666666666666,
              "#ed7953"
             ],
             [
              0.7777777777777778,
              "#fb9f3a"
             ],
             [
              0.8888888888888888,
              "#fdca26"
             ],
             [
              1,
              "#f0f921"
             ]
            ],
            "type": "heatmapgl"
           }
          ],
          "histogram": [
           {
            "marker": {
             "pattern": {
              "fillmode": "overlay",
              "size": 10,
              "solidity": 0.2
             }
            },
            "type": "histogram"
           }
          ],
          "histogram2d": [
           {
            "colorbar": {
             "outlinewidth": 0,
             "ticks": ""
            },
            "colorscale": [
             [
              0,
              "#0d0887"
             ],
             [
              0.1111111111111111,
              "#46039f"
             ],
             [
              0.2222222222222222,
              "#7201a8"
             ],
             [
              0.3333333333333333,
              "#9c179e"
             ],
             [
              0.4444444444444444,
              "#bd3786"
             ],
             [
              0.5555555555555556,
              "#d8576b"
             ],
             [
              0.6666666666666666,
              "#ed7953"
             ],
             [
              0.7777777777777778,
              "#fb9f3a"
             ],
             [
              0.8888888888888888,
              "#fdca26"
             ],
             [
              1,
              "#f0f921"
             ]
            ],
            "type": "histogram2d"
           }
          ],
          "histogram2dcontour": [
           {
            "colorbar": {
             "outlinewidth": 0,
             "ticks": ""
            },
            "colorscale": [
             [
              0,
              "#0d0887"
             ],
             [
              0.1111111111111111,
              "#46039f"
             ],
             [
              0.2222222222222222,
              "#7201a8"
             ],
             [
              0.3333333333333333,
              "#9c179e"
             ],
             [
              0.4444444444444444,
              "#bd3786"
             ],
             [
              0.5555555555555556,
              "#d8576b"
             ],
             [
              0.6666666666666666,
              "#ed7953"
             ],
             [
              0.7777777777777778,
              "#fb9f3a"
             ],
             [
              0.8888888888888888,
              "#fdca26"
             ],
             [
              1,
              "#f0f921"
             ]
            ],
            "type": "histogram2dcontour"
           }
          ],
          "mesh3d": [
           {
            "colorbar": {
             "outlinewidth": 0,
             "ticks": ""
            },
            "type": "mesh3d"
           }
          ],
          "parcoords": [
           {
            "line": {
             "colorbar": {
              "outlinewidth": 0,
              "ticks": ""
             }
            },
            "type": "parcoords"
           }
          ],
          "pie": [
           {
            "automargin": true,
            "type": "pie"
           }
          ],
          "scatter": [
           {
            "fillpattern": {
             "fillmode": "overlay",
             "size": 10,
             "solidity": 0.2
            },
            "type": "scatter"
           }
          ],
          "scatter3d": [
           {
            "line": {
             "colorbar": {
              "outlinewidth": 0,
              "ticks": ""
             }
            },
            "marker": {
             "colorbar": {
              "outlinewidth": 0,
              "ticks": ""
             }
            },
            "type": "scatter3d"
           }
          ],
          "scattercarpet": [
           {
            "marker": {
             "colorbar": {
              "outlinewidth": 0,
              "ticks": ""
             }
            },
            "type": "scattercarpet"
           }
          ],
          "scattergeo": [
           {
            "marker": {
             "colorbar": {
              "outlinewidth": 0,
              "ticks": ""
             }
            },
            "type": "scattergeo"
           }
          ],
          "scattergl": [
           {
            "marker": {
             "colorbar": {
              "outlinewidth": 0,
              "ticks": ""
             }
            },
            "type": "scattergl"
           }
          ],
          "scattermapbox": [
           {
            "marker": {
             "colorbar": {
              "outlinewidth": 0,
              "ticks": ""
             }
            },
            "type": "scattermapbox"
           }
          ],
          "scatterpolar": [
           {
            "marker": {
             "colorbar": {
              "outlinewidth": 0,
              "ticks": ""
             }
            },
            "type": "scatterpolar"
           }
          ],
          "scatterpolargl": [
           {
            "marker": {
             "colorbar": {
              "outlinewidth": 0,
              "ticks": ""
             }
            },
            "type": "scatterpolargl"
           }
          ],
          "scatterternary": [
           {
            "marker": {
             "colorbar": {
              "outlinewidth": 0,
              "ticks": ""
             }
            },
            "type": "scatterternary"
           }
          ],
          "surface": [
           {
            "colorbar": {
             "outlinewidth": 0,
             "ticks": ""
            },
            "colorscale": [
             [
              0,
              "#0d0887"
             ],
             [
              0.1111111111111111,
              "#46039f"
             ],
             [
              0.2222222222222222,
              "#7201a8"
             ],
             [
              0.3333333333333333,
              "#9c179e"
             ],
             [
              0.4444444444444444,
              "#bd3786"
             ],
             [
              0.5555555555555556,
              "#d8576b"
             ],
             [
              0.6666666666666666,
              "#ed7953"
             ],
             [
              0.7777777777777778,
              "#fb9f3a"
             ],
             [
              0.8888888888888888,
              "#fdca26"
             ],
             [
              1,
              "#f0f921"
             ]
            ],
            "type": "surface"
           }
          ],
          "table": [
           {
            "cells": {
             "fill": {
              "color": "#EBF0F8"
             },
             "line": {
              "color": "white"
             }
            },
            "header": {
             "fill": {
              "color": "#C8D4E3"
             },
             "line": {
              "color": "white"
             }
            },
            "type": "table"
           }
          ]
         },
         "layout": {
          "annotationdefaults": {
           "arrowcolor": "#2a3f5f",
           "arrowhead": 0,
           "arrowwidth": 1
          },
          "autotypenumbers": "strict",
          "coloraxis": {
           "colorbar": {
            "outlinewidth": 0,
            "ticks": ""
           }
          },
          "colorscale": {
           "diverging": [
            [
             0,
             "#8e0152"
            ],
            [
             0.1,
             "#c51b7d"
            ],
            [
             0.2,
             "#de77ae"
            ],
            [
             0.3,
             "#f1b6da"
            ],
            [
             0.4,
             "#fde0ef"
            ],
            [
             0.5,
             "#f7f7f7"
            ],
            [
             0.6,
             "#e6f5d0"
            ],
            [
             0.7,
             "#b8e186"
            ],
            [
             0.8,
             "#7fbc41"
            ],
            [
             0.9,
             "#4d9221"
            ],
            [
             1,
             "#276419"
            ]
           ],
           "sequential": [
            [
             0,
             "#0d0887"
            ],
            [
             0.1111111111111111,
             "#46039f"
            ],
            [
             0.2222222222222222,
             "#7201a8"
            ],
            [
             0.3333333333333333,
             "#9c179e"
            ],
            [
             0.4444444444444444,
             "#bd3786"
            ],
            [
             0.5555555555555556,
             "#d8576b"
            ],
            [
             0.6666666666666666,
             "#ed7953"
            ],
            [
             0.7777777777777778,
             "#fb9f3a"
            ],
            [
             0.8888888888888888,
             "#fdca26"
            ],
            [
             1,
             "#f0f921"
            ]
           ],
           "sequentialminus": [
            [
             0,
             "#0d0887"
            ],
            [
             0.1111111111111111,
             "#46039f"
            ],
            [
             0.2222222222222222,
             "#7201a8"
            ],
            [
             0.3333333333333333,
             "#9c179e"
            ],
            [
             0.4444444444444444,
             "#bd3786"
            ],
            [
             0.5555555555555556,
             "#d8576b"
            ],
            [
             0.6666666666666666,
             "#ed7953"
            ],
            [
             0.7777777777777778,
             "#fb9f3a"
            ],
            [
             0.8888888888888888,
             "#fdca26"
            ],
            [
             1,
             "#f0f921"
            ]
           ]
          },
          "colorway": [
           "#636efa",
           "#EF553B",
           "#00cc96",
           "#ab63fa",
           "#FFA15A",
           "#19d3f3",
           "#FF6692",
           "#B6E880",
           "#FF97FF",
           "#FECB52"
          ],
          "font": {
           "color": "#2a3f5f"
          },
          "geo": {
           "bgcolor": "white",
           "lakecolor": "white",
           "landcolor": "#E5ECF6",
           "showlakes": true,
           "showland": true,
           "subunitcolor": "white"
          },
          "hoverlabel": {
           "align": "left"
          },
          "hovermode": "closest",
          "mapbox": {
           "style": "light"
          },
          "paper_bgcolor": "white",
          "plot_bgcolor": "#E5ECF6",
          "polar": {
           "angularaxis": {
            "gridcolor": "white",
            "linecolor": "white",
            "ticks": ""
           },
           "bgcolor": "#E5ECF6",
           "radialaxis": {
            "gridcolor": "white",
            "linecolor": "white",
            "ticks": ""
           }
          },
          "scene": {
           "xaxis": {
            "backgroundcolor": "#E5ECF6",
            "gridcolor": "white",
            "gridwidth": 2,
            "linecolor": "white",
            "showbackground": true,
            "ticks": "",
            "zerolinecolor": "white"
           },
           "yaxis": {
            "backgroundcolor": "#E5ECF6",
            "gridcolor": "white",
            "gridwidth": 2,
            "linecolor": "white",
            "showbackground": true,
            "ticks": "",
            "zerolinecolor": "white"
           },
           "zaxis": {
            "backgroundcolor": "#E5ECF6",
            "gridcolor": "white",
            "gridwidth": 2,
            "linecolor": "white",
            "showbackground": true,
            "ticks": "",
            "zerolinecolor": "white"
           }
          },
          "shapedefaults": {
           "line": {
            "color": "#2a3f5f"
           }
          },
          "ternary": {
           "aaxis": {
            "gridcolor": "white",
            "linecolor": "white",
            "ticks": ""
           },
           "baxis": {
            "gridcolor": "white",
            "linecolor": "white",
            "ticks": ""
           },
           "bgcolor": "#E5ECF6",
           "caxis": {
            "gridcolor": "white",
            "linecolor": "white",
            "ticks": ""
           }
          },
          "title": {
           "x": 0.05
          },
          "xaxis": {
           "automargin": true,
           "gridcolor": "white",
           "linecolor": "white",
           "ticks": "",
           "title": {
            "standoff": 15
           },
           "zerolinecolor": "white",
           "zerolinewidth": 2
          },
          "yaxis": {
           "automargin": true,
           "gridcolor": "white",
           "linecolor": "white",
           "ticks": "",
           "title": {
            "standoff": 15
           },
           "zerolinecolor": "white",
           "zerolinewidth": 2
          }
         }
        },
        "xaxis": {
         "anchor": "y",
         "autorange": true,
         "domain": [
          0,
          1
         ],
         "range": [
          -198.50919015551472,
          192.64576535551473
         ],
         "title": {
          "text": "Longitude"
         },
         "type": "linear"
        },
        "yaxis": {
         "anchor": "x",
         "autorange": true,
         "domain": [
          0,
          1
         ],
         "range": [
          -92.52685528377953,
          86.72878904377953
         ],
         "title": {
          "text": "Latitude"
         },
         "type": "linear"
        }
       }
      },
      "image/png": "[encoded data removed]",
      "text/html": [
       "<div>                            <div id=\"e59bc666-75ec-4216-a42e-246e15c232e6\" class=\"plotly-graph-div\" style=\"height:525px; width:100%;\"></div>            <script type=\"text/javascript\">                require([\"plotly\"], function(Plotly) {                    window.PLOTLYENV=window.PLOTLYENV || {};                                    if (document.getElementById(\"e59bc666-75ec-4216-a42e-246e15c232e6\")) {                    Plotly.newPlot(                        \"e59bc666-75ec-4216-a42e-246e15c232e6\",                        [{\"hovertemplate\":\"Longitude=%{x}\\u003cbr\\u003eLatitude=%{y}\\u003cbr\\u003ec_group=%{marker.color}\\u003cextra\\u003e\\u003c\\u002fextra\\u003e\",\"legendgroup\":\"\",\"marker\":{\"color\":[3,1,4,3,5,5,5,4,7,5,2,7,6,4,3,6,5,5,4,5,0,0,1,5,4,3,3,5,3,5,3,3,3,3,3,1,1,4,4,5,7,1,0,0,4,0,2,3,4,0,3,3,3,3,5,5,5,5,4,3,5,3,0,3,5,4,5,5,4,5,6,7,5,5,6,0,5,5,5,0,0,0,0,0,5,3,5,3,6,3,1,4,3,5,3,5,1,5,1,1,4,5,4,5,5,5,5,3,5,5,1,1,1,4,1,1,3,3,1,5,4,1,5,0,5,3,5,1,4,5,5,5,1,3,0,5,5,4,1,3,6,5,0,5,1,5,1,6,4,0,3,4,4,1,4,6,0,6,0,3,2,5,5,1,6,6,4,1,3,2,3,1,6,6,5,3,1,5,7,5,2,4,5,1,4,0,4,4,4,0,1,7,0,6,0,3,5,4,4,3,5,0,3,5,5,5,4,3,4,5,3,0,0,1,1,1,6,2,3,5,5,1,4,4,5,7,3,1,5,3,3,3,3,1,6,2,2,4,4,4,4],\"coloraxis\":\"coloraxis\",\"symbol\":\"circle\"},\"mode\":\"markers\",\"name\":\"\",\"orientation\":\"v\",\"showlegend\":false,\"x\":[-69.98267711,66.00473366,17.53736768,-63.06498927,20.04983396,19.95328768,1.56054378,54.3001671,-65.17980692,44.92993276,-170.7180258,19.92108951,123.5838379,69.22666758,-61.79469343,134.4910001,14.1264761,47.54599879,29.87512156,4.64065114,2.32785254,-1.75456601,90.23812743,25.21552909,50.54196932,-98.30777028,-76.62843038,17.76876733,-62.84067779,28.03209307,-88.71010486,-64.7545589,-64.68538645,-53.09783113,-59.559797,114.7220304,90.40188155,23.79853368,20.46826831,8.20867471,-71.38256213,103.8190735,-5.5692157,12.73964156,23.64396107,15.21965762,-159.7872422,-73.08114582,43.68253968,-23.9598882,-84.19208768,-79.01605384,-68.97119369,-80.91213321,33.5684813,33.0060022,15.31240163,10.38578051,42.5606754,-61.357726,10.02800992,-70.50568896,2.61732301,-78.75201922,29.86190099,38.84617011,-3.64755047,25.54248537,39.60080098,26.2746656,165.4519543,-59.35238956,-2.76172945,-6.88095423,153.2394379,11.7886287,-2.86563164,43.50780252,-2.57239064,-1.21676566,-10.94066612,-15.39601295,-14.94972445,10.34137924,22.95555794,-61.68220189,-41.34191127,-90.36482009,144.7679102,-58.98202459,114.1138045,73.5205171,-86.6151661,16.40412899,-72.68527509,19.39559116,117.2401137,-4.53873952,79.6119761,104.851898,72.44541229,-8.13793569,54.27407004,43.74353149,-18.57396167,35.00444693,12.07001339,-77.31482593,-2.12689938,36.77136104,138.0308956,77.18011865,67.29149357,37.79593973,74.54165513,104.9069433,-45.61110513,-62.68755265,127.8391609,20.87249811,47.58700459,103.7377241,35.88016072,-9.32207573,18.00866169,-60.96969923,9.53574312,80.70108238,28.22723131,23.88719355,6.07182201,24.91235983,113.5093212,-63.05972851,-8.45615795,7.40627677,28.45673372,46.70473674,73.45713004,-102.5234517,170.3397612,21.68211346,-3.54269065,14.40523316,96.48843321,19.23883939,103.0529977,145.6196965,35.53367543,-10.34779815,-62.18518546,57.57120551,34.28935599,109.6976228,17.20963567,165.6849237,9.38545882,167.9492168,8.08943895,-85.0305297,-169.8699468,5.28144793,15.34834656,83.9158264,166.9325682,171.4849235,56.09166155,69.33957937,-80.11915156,-128.317042,-74.38242685,122.8839325,134.4080797,145.2074475,19.39012835,-66.47307604,127.1924797,-8.50104361,-58.40013703,35.19628705,-144.9049439,51.18479632,24.97293039,96.68656112,29.91988515,-12.21982755,44.53686271,29.94046812,30.24790002,-14.4734924,103.8172559,-36.43318388,-9.54779416,159.6328767,-11.79271247,-88.87164469,12.45922334,46.25198395,45.70714487,-56.30319779,20.78958334,6.72429658,-55.9123457,19.47905218,14.80444238,16.74558049,31.4819369,-63.05713363,55.47603279,38.50788204,-71.97387881,18.64492513,0.96232845,101.0028813,71.01362631,59.37100021,125.8443898,-174.8098734,-61.26567923,9.55288359,35.16895346,120.9542728,34.81309981,32.36907971,31.38326469,-56.01807053,-112.4616737,63.14001528,12.43387177,-61.20129695,-66.18184123,-64.47146992,-64.80301538,106.299147,167.6864464,-177.3483483,-172.1648506,47.58676189,25.08390093,27.77475946,29.8514412],\"xaxis\":\"x\",\"y\":[12.52088038,33.83523073,-12.29336054,18.2239595,41.14244989,60.21488688,42.54229102,23.90528188,-35.3813488,40.28952569,-14.30445997,-80.50857913,-12.42993164,-49.24895485,17.2774996,-25.73288704,47.58549439,40.28827235,-3.35939666,50.63981576,9.6417597,12.26953846,23.86731158,42.76890318,26.04205135,61.36206324,24.29036702,44.17450125,17.89880451,53.53131377,17.20027509,32.31367802,-16.70814787,-10.78777702,13.18145428,4.51968958,27.41106589,-22.18403213,6.56823297,46.79785878,-37.73070989,36.56176546,7.6284262,5.69109849,-2.87746289,-0.83787463,-21.21927288,3.91383431,-11.87783444,15.95523324,9.97634464,21.62289528,12.19551675,19.42896497,35.26277486,34.91667211,49.73341233,51.10698181,11.74871806,15.4394702,55.98125296,18.89433082,28.15893849,-1.42381612,26.49593311,15.36186618,40.24448698,58.67192972,8.62278679,64.49884603,-17.42858032,-51.74483954,42.17344011,62.05385403,7.45246814,-0.58660025,54.12387156,42.16855755,49.46809761,7.95345644,10.43621593,13.44965244,12.04744948,1.70555135,39.07469623,12.11725044,74.71051289,15.69403664,13.44165626,4.79378034,22.39827737,-53.08724656,14.82688165,45.08047631,18.93502563,47.16277506,-2.21505456,54.22418911,22.88578212,-10.6478515,-7.33059751,53.1754487,32.57503292,33.03970582,64.99575386,31.46110101,42.79662641,18.15694878,49.21837377,31.24579091,37.59230135,35.39236325,48.15688067,0.59988022,41.46221943,12.72004786,0.86001503,17.2645995,36.38523983,42.57078707,29.33431262,18.50217433,33.92306631,6.45278492,27.03094495,13.89479481,47.13665835,7.61266509,-29.58003188,55.32610984,49.76725361,56.85085163,22.22311688,18.08888611,29.83762955,43.75274627,47.19498804,-19.37189587,3.7287092,23.94753724,7.00376358,41.59530893,17.34581581,35.92149632,21.18566599,42.78890259,46.82681544,15.82927563,-17.27381643,20.25736706,16.73941406,-20.27768704,-13.21808088,3.78986846,-22.13032568,-21.29991806,17.41912493,-29.0514609,9.59411452,12.84709429,-19.04945708,52.1007899,68.75015572,28.24891365,-0.51912639,-41.81113557,20.60515333,29.9497515,8.51750797,-24.36500535,-9.15280381,11.77536778,7.28742784,-6.46416646,52.12759564,18.22813055,40.15350311,39.59550671,-23.22823913,31.91613893,-14.72227409,25.30601188,45.85243127,61.98052209,-1.99033832,24.22956739,24.12245841,15.99035669,7.30877945,14.36624173,1.35876087,-54.46488248,-12.40355951,-8.92178022,8.56329593,13.73943744,43.94186747,9.73345496,4.75062876,46.91918789,44.2215032,0.44391445,4.13055413,48.70547528,46.11554772,62.77966519,-26.55843045,18.05081728,-4.66099094,35.02547389,21.83047572,15.33333758,8.52531356,15.11815794,38.5304539,39.11554137,-8.82889162,-20.42843174,10.45733408,34.11956246,39.0616029,23.7539928,-6.27565408,1.27469299,48.99656673,-32.79951534,45.6795472,41.75554225,41.90174985,13.22472269,7.12422421,18.52585755,17.95500624,16.6460167,-16.22640909,-13.88737039,-13.75324346,15.90928005,-29.00034095,-13.45824152,-19.00420419],\"yaxis\":\"y\",\"type\":\"scatter\"}],                        {\"template\":{\"data\":{\"histogram2dcontour\":[{\"type\":\"histogram2dcontour\",\"colorbar\":{\"outlinewidth\":0,\"ticks\":\"\"},\"colorscale\":[[0.0,\"#0d0887\"],[0.1111111111111111,\"#46039f\"],[0.2222222222222222,\"#7201a8\"],[0.3333333333333333,\"#9c179e\"],[0.4444444444444444,\"#bd3786\"],[0.5555555555555556,\"#d8576b\"],[0.6666666666666666,\"#ed7953\"],[0.7777777777777778,\"#fb9f3a\"],[0.8888888888888888,\"#fdca26\"],[1.0,\"#f0f921\"]]}],\"choropleth\":[{\"type\":\"choropleth\",\"colorbar\":{\"outlinewidth\":0,\"ticks\":\"\"}}],\"histogram2d\":[{\"type\":\"histogram2d\",\"colorbar\":{\"outlinewidth\":0,\"ticks\":\"\"},\"colorscale\":[[0.0,\"#0d0887\"],[0.1111111111111111,\"#46039f\"],[0.2222222222222222,\"#7201a8\"],[0.3333333333333333,\"#9c179e\"],[0.4444444444444444,\"#bd3786\"],[0.5555555555555556,\"#d8576b\"],[0.6666666666666666,\"#ed7953\"],[0.7777777777777778,\"#fb9f3a\"],[0.8888888888888888,\"#fdca26\"],[1.0,\"#f0f921\"]]}],\"heatmap\":[{\"type\":\"heatmap\",\"colorbar\":{\"outlinewidth\":0,\"ticks\":\"\"},\"colorscale\":[[0.0,\"#0d0887\"],[0.1111111111111111,\"#46039f\"],[0.2222222222222222,\"#7201a8\"],[0.3333333333333333,\"#9c179e\"],[0.4444444444444444,\"#bd3786\"],[0.5555555555555556,\"#d8576b\"],[0.6666666666666666,\"#ed7953\"],[0.7777777777777778,\"#fb9f3a\"],[0.8888888888888888,\"#fdca26\"],[1.0,\"#f0f921\"]]}],\"heatmapgl\":[{\"type\":\"heatmapgl\",\"colorbar\":{\"outlinewidth\":0,\"ticks\":\"\"},\"colorscale\":[[0.0,\"#0d0887\"],[0.1111111111111111,\"#46039f\"],[0.2222222222222222,\"#7201a8\"],[0.3333333333333333,\"#9c179e\"],[0.4444444444444444,\"#bd3786\"],[0.5555555555555556,\"#d8576b\"],[0.6666666666666666,\"#ed7953\"],[0.7777777777777778,\"#fb9f3a\"],[0.8888888888888888,\"#fdca26\"],[1.0,\"#f0f921\"]]}],\"contourcarpet\":[{\"type\":\"contourcarpet\",\"colorbar\":{\"outlinewidth\":0,\"ticks\":\"\"}}],\"contour\":[{\"type\":\"contour\",\"colorbar\":{\"outlinewidth\":0,\"ticks\":\"\"},\"colorscale\":[[0.0,\"#0d0887\"],[0.1111111111111111,\"#46039f\"],[0.2222222222222222,\"#7201a8\"],[0.3333333333333333,\"#9c179e\"],[0.4444444444444444,\"#bd3786\"],[0.5555555555555556,\"#d8576b\"],[0.6666666666666666,\"#ed7953\"],[0.7777777777777778,\"#fb9f3a\"],[0.8888888888888888,\"#fdca26\"],[1.0,\"#f0f921\"]]}],\"surface\":[{\"type\":\"surface\",\"colorbar\":{\"outlinewidth\":0,\"ticks\":\"\"},\"colorscale\":[[0.0,\"#0d0887\"],[0.1111111111111111,\"#46039f\"],[0.2222222222222222,\"#7201a8\"],[0.3333333333333333,\"#9c179e\"],[0.4444444444444444,\"#bd3786\"],[0.5555555555555556,\"#d8576b\"],[0.6666666666666666,\"#ed7953\"],[0.7777777777777778,\"#fb9f3a\"],[0.8888888888888888,\"#fdca26\"],[1.0,\"#f0f921\"]]}],\"mesh3d\":[{\"type\":\"mesh3d\",\"colorbar\":{\"outlinewidth\":0,\"ticks\":\"\"}}],\"scatter\":[{\"fillpattern\":{\"fillmode\":\"overlay\",\"size\":10,\"solidity\":0.2},\"type\":\"scatter\"}],\"parcoords\":[{\"type\":\"parcoords\",\"line\":{\"colorbar\":{\"outlinewidth\":0,\"ticks\":\"\"}}}],\"scatterpolargl\":[{\"type\":\"scatterpolargl\",\"marker\":{\"colorbar\":{\"outlinewidth\":0,\"ticks\":\"\"}}}],\"bar\":[{\"error_x\":{\"color\":\"#2a3f5f\"},\"error_y\":{\"color\":\"#2a3f5f\"},\"marker\":{\"line\":{\"color\":\"#E5ECF6\",\"width\":0.5},\"pattern\":{\"fillmode\":\"overlay\",\"size\":10,\"solidity\":0.2}},\"type\":\"bar\"}],\"scattergeo\":[{\"type\":\"scattergeo\",\"marker\":{\"colorbar\":{\"outlinewidth\":0,\"ticks\":\"\"}}}],\"scatterpolar\":[{\"type\":\"scatterpolar\",\"marker\":{\"colorbar\":{\"outlinewidth\":0,\"ticks\":\"\"}}}],\"histogram\":[{\"marker\":{\"pattern\":{\"fillmode\":\"overlay\",\"size\":10,\"solidity\":0.2}},\"type\":\"histogram\"}],\"scattergl\":[{\"type\":\"scattergl\",\"marker\":{\"colorbar\":{\"outlinewidth\":0,\"ticks\":\"\"}}}],\"scatter3d\":[{\"type\":\"scatter3d\",\"line\":{\"colorbar\":{\"outlinewidth\":0,\"ticks\":\"\"}},\"marker\":{\"colorbar\":{\"outlinewidth\":0,\"ticks\":\"\"}}}],\"scattermapbox\":[{\"type\":\"scattermapbox\",\"marker\":{\"colorbar\":{\"outlinewidth\":0,\"ticks\":\"\"}}}],\"scatterternary\":[{\"type\":\"scatterternary\",\"marker\":{\"colorbar\":{\"outlinewidth\":0,\"ticks\":\"\"}}}],\"scattercarpet\":[{\"type\":\"scattercarpet\",\"marker\":{\"colorbar\":{\"outlinewidth\":0,\"ticks\":\"\"}}}],\"carpet\":[{\"aaxis\":{\"endlinecolor\":\"#2a3f5f\",\"gridcolor\":\"white\",\"linecolor\":\"white\",\"minorgridcolor\":\"white\",\"startlinecolor\":\"#2a3f5f\"},\"baxis\":{\"endlinecolor\":\"#2a3f5f\",\"gridcolor\":\"white\",\"linecolor\":\"white\",\"minorgridcolor\":\"white\",\"startlinecolor\":\"#2a3f5f\"},\"type\":\"carpet\"}],\"table\":[{\"cells\":{\"fill\":{\"color\":\"#EBF0F8\"},\"line\":{\"color\":\"white\"}},\"header\":{\"fill\":{\"color\":\"#C8D4E3\"},\"line\":{\"color\":\"white\"}},\"type\":\"table\"}],\"barpolar\":[{\"marker\":{\"line\":{\"color\":\"#E5ECF6\",\"width\":0.5},\"pattern\":{\"fillmode\":\"overlay\",\"size\":10,\"solidity\":0.2}},\"type\":\"barpolar\"}],\"pie\":[{\"automargin\":true,\"type\":\"pie\"}]},\"layout\":{\"autotypenumbers\":\"strict\",\"colorway\":[\"#636efa\",\"#EF553B\",\"#00cc96\",\"#ab63fa\",\"#FFA15A\",\"#19d3f3\",\"#FF6692\",\"#B6E880\",\"#FF97FF\",\"#FECB52\"],\"font\":{\"color\":\"#2a3f5f\"},\"hovermode\":\"closest\",\"hoverlabel\":{\"align\":\"left\"},\"paper_bgcolor\":\"white\",\"plot_bgcolor\":\"#E5ECF6\",\"polar\":{\"bgcolor\":\"#E5ECF6\",\"angularaxis\":{\"gridcolor\":\"white\",\"linecolor\":\"white\",\"ticks\":\"\"},\"radialaxis\":{\"gridcolor\":\"white\",\"linecolor\":\"white\",\"ticks\":\"\"}},\"ternary\":{\"bgcolor\":\"#E5ECF6\",\"aaxis\":{\"gridcolor\":\"white\",\"linecolor\":\"white\",\"ticks\":\"\"},\"baxis\":{\"gridcolor\":\"white\",\"linecolor\":\"white\",\"ticks\":\"\"},\"caxis\":{\"gridcolor\":\"white\",\"linecolor\":\"white\",\"ticks\":\"\"}},\"coloraxis\":{\"colorbar\":{\"outlinewidth\":0,\"ticks\":\"\"}},\"colorscale\":{\"sequential\":[[0.0,\"#0d0887\"],[0.1111111111111111,\"#46039f\"],[0.2222222222222222,\"#7201a8\"],[0.3333333333333333,\"#9c179e\"],[0.4444444444444444,\"#bd3786\"],[0.5555555555555556,\"#d8576b\"],[0.6666666666666666,\"#ed7953\"],[0.7777777777777778,\"#fb9f3a\"],[0.8888888888888888,\"#fdca26\"],[1.0,\"#f0f921\"]],\"sequentialminus\":[[0.0,\"#0d0887\"],[0.1111111111111111,\"#46039f\"],[0.2222222222222222,\"#7201a8\"],[0.3333333333333333,\"#9c179e\"],[0.4444444444444444,\"#bd3786\"],[0.5555555555555556,\"#d8576b\"],[0.6666666666666666,\"#ed7953\"],[0.7777777777777778,\"#fb9f3a\"],[0.8888888888888888,\"#fdca26\"],[1.0,\"#f0f921\"]],\"diverging\":[[0,\"#8e0152\"],[0.1,\"#c51b7d\"],[0.2,\"#de77ae\"],[0.3,\"#f1b6da\"],[0.4,\"#fde0ef\"],[0.5,\"#f7f7f7\"],[0.6,\"#e6f5d0\"],[0.7,\"#b8e186\"],[0.8,\"#7fbc41\"],[0.9,\"#4d9221\"],[1,\"#276419\"]]},\"xaxis\":{\"gridcolor\":\"white\",\"linecolor\":\"white\",\"ticks\":\"\",\"title\":{\"standoff\":15},\"zerolinecolor\":\"white\",\"automargin\":true,\"zerolinewidth\":2},\"yaxis\":{\"gridcolor\":\"white\",\"linecolor\":\"white\",\"ticks\":\"\",\"title\":{\"standoff\":15},\"zerolinecolor\":\"white\",\"automargin\":true,\"zerolinewidth\":2},\"scene\":{\"xaxis\":{\"backgroundcolor\":\"#E5ECF6\",\"gridcolor\":\"white\",\"linecolor\":\"white\",\"showbackground\":true,\"ticks\":\"\",\"zerolinecolor\":\"white\",\"gridwidth\":2},\"yaxis\":{\"backgroundcolor\":\"#E5ECF6\",\"gridcolor\":\"white\",\"linecolor\":\"white\",\"showbackground\":true,\"ticks\":\"\",\"zerolinecolor\":\"white\",\"gridwidth\":2},\"zaxis\":{\"backgroundcolor\":\"#E5ECF6\",\"gridcolor\":\"white\",\"linecolor\":\"white\",\"showbackground\":true,\"ticks\":\"\",\"zerolinecolor\":\"white\",\"gridwidth\":2}},\"shapedefaults\":{\"line\":{\"color\":\"#2a3f5f\"}},\"annotationdefaults\":{\"arrowcolor\":\"#2a3f5f\",\"arrowhead\":0,\"arrowwidth\":1},\"geo\":{\"bgcolor\":\"white\",\"landcolor\":\"#E5ECF6\",\"subunitcolor\":\"white\",\"showland\":true,\"showlakes\":true,\"lakecolor\":\"white\"},\"title\":{\"x\":0.05},\"mapbox\":{\"style\":\"light\"}}},\"xaxis\":{\"anchor\":\"y\",\"domain\":[0.0,1.0],\"title\":{\"text\":\"Longitude\"}},\"yaxis\":{\"anchor\":\"x\",\"domain\":[0.0,1.0],\"title\":{\"text\":\"Latitude\"}},\"coloraxis\":{\"colorbar\":{\"title\":{\"text\":\"c_group\"}},\"colorscale\":[[0.0,\"#0d0887\"],[0.1111111111111111,\"#46039f\"],[0.2222222222222222,\"#7201a8\"],[0.3333333333333333,\"#9c179e\"],[0.4444444444444444,\"#bd3786\"],[0.5555555555555556,\"#d8576b\"],[0.6666666666666666,\"#ed7953\"],[0.7777777777777778,\"#fb9f3a\"],[0.8888888888888888,\"#fdca26\"],[1.0,\"#f0f921\"]]},\"legend\":{\"tracegroupgap\":0},\"margin\":{\"t\":60}},                        {\"responsive\": true}                    ).then(function(){\n",
       "                            \n",
       "var gd = document.getElementById('e59bc666-75ec-4216-a42e-246e15c232e6');\n",
       "var x = new MutationObserver(function (mutations, observer) {{\n",
       "        var display = window.getComputedStyle(gd).display;\n",
       "        if (!display || display === 'none') {{\n",
       "            console.log([gd, 'removed!']);\n",
       "            Plotly.purge(gd);\n",
       "            observer.disconnect();\n",
       "        }}\n",
       "}});\n",
       "\n",
       "// Listen for the removal of the full notebook cells\n",
       "var notebookContainer = gd.closest('#notebook-container');\n",
       "if (notebookContainer) {{\n",
       "    x.observe(notebookContainer, {childList: true});\n",
       "}}\n",
       "\n",
       "// Listen for the clearing of the current output cell\n",
       "var outputEl = gd.closest('.output');\n",
       "if (outputEl) {{\n",
       "    x.observe(outputEl, {childList: true});\n",
       "}}\n",
       "\n",
       "                        })                };                });            </script>        </div>"
      ]
     },
     "metadata": {},
     "output_type": "display_data"
    }
   ],
   "source": [
    "px.scatter(lon_lat, x='Longitude', y='Latitude', color = 'c_group')"
   ]
  },
  {
   "cell_type": "markdown",
   "metadata": {},
   "source": [
    "Did you remember to use the <i> c </i> parameter to separate the data by the clusters we defined?"
   ]
  },
  {
   "cell_type": "code",
   "execution_count": 59,
   "metadata": {},
   "outputs": [
    {
     "name": "stderr",
     "output_type": "stream",
     "text": [
      "C:\\Users\\Jae-EunPark\\anaconda3\\Lib\\site-packages\\sklearn\\cluster\\_kmeans.py:1429: UserWarning:\n",
      "\n",
      "KMeans is known to have a memory leak on Windows with MKL, when there are less chunks than available threads. You can avoid it by setting the environment variable OMP_NUM_THREADS=1.\n",
      "\n",
      "C:\\Users\\Jae-EunPark\\anaconda3\\Lib\\site-packages\\sklearn\\cluster\\_kmeans.py:1429: UserWarning:\n",
      "\n",
      "KMeans is known to have a memory leak on Windows with MKL, when there are less chunks than available threads. You can avoid it by setting the environment variable OMP_NUM_THREADS=1.\n",
      "\n",
      "C:\\Users\\Jae-EunPark\\anaconda3\\Lib\\site-packages\\sklearn\\cluster\\_kmeans.py:1429: UserWarning:\n",
      "\n",
      "KMeans is known to have a memory leak on Windows with MKL, when there are less chunks than available threads. You can avoid it by setting the environment variable OMP_NUM_THREADS=1.\n",
      "\n",
      "C:\\Users\\Jae-EunPark\\anaconda3\\Lib\\site-packages\\sklearn\\cluster\\_kmeans.py:1429: UserWarning:\n",
      "\n",
      "KMeans is known to have a memory leak on Windows with MKL, when there are less chunks than available threads. You can avoid it by setting the environment variable OMP_NUM_THREADS=1.\n",
      "\n",
      "C:\\Users\\Jae-EunPark\\anaconda3\\Lib\\site-packages\\sklearn\\cluster\\_kmeans.py:1429: UserWarning:\n",
      "\n",
      "KMeans is known to have a memory leak on Windows with MKL, when there are less chunks than available threads. You can avoid it by setting the environment variable OMP_NUM_THREADS=1.\n",
      "\n",
      "C:\\Users\\Jae-EunPark\\anaconda3\\Lib\\site-packages\\sklearn\\cluster\\_kmeans.py:1429: UserWarning:\n",
      "\n",
      "KMeans is known to have a memory leak on Windows with MKL, when there are less chunks than available threads. You can avoid it by setting the environment variable OMP_NUM_THREADS=1.\n",
      "\n",
      "C:\\Users\\Jae-EunPark\\anaconda3\\Lib\\site-packages\\sklearn\\cluster\\_kmeans.py:1429: UserWarning:\n",
      "\n",
      "KMeans is known to have a memory leak on Windows with MKL, when there are less chunks than available threads. You can avoid it by setting the environment variable OMP_NUM_THREADS=1.\n",
      "\n",
      "C:\\Users\\Jae-EunPark\\anaconda3\\Lib\\site-packages\\sklearn\\cluster\\_kmeans.py:1429: UserWarning:\n",
      "\n",
      "KMeans is known to have a memory leak on Windows with MKL, when there are less chunks than available threads. You can avoid it by setting the environment variable OMP_NUM_THREADS=1.\n",
      "\n",
      "C:\\Users\\Jae-EunPark\\anaconda3\\Lib\\site-packages\\sklearn\\cluster\\_kmeans.py:1429: UserWarning:\n",
      "\n",
      "KMeans is known to have a memory leak on Windows with MKL, when there are less chunks than available threads. You can avoid it by setting the environment variable OMP_NUM_THREADS=1.\n",
      "\n"
     ]
    }
   ],
   "source": [
    "wcss=[]\n",
    "\n",
    "for i in range(1,10):\n",
    "    Cluster = KMeans(i)\n",
    "    Cluster.fit(X)\n",
    "    wcss_iter = Cluster.inertia_\n",
    "    wcss.append(wcss_iter)\n"
   ]
  },
  {
   "cell_type": "code",
   "execution_count": 60,
   "metadata": {},
   "outputs": [],
   "source": [
    "x_list =list(range(1,10))"
   ]
  },
  {
   "cell_type": "code",
   "execution_count": 61,
   "metadata": {},
   "outputs": [
    {
     "data": {
      "text/plain": [
       "[1, 2, 3, 4, 5, 6, 7, 8, 9]"
      ]
     },
     "execution_count": 61,
     "metadata": {},
     "output_type": "execute_result"
    }
   ],
   "source": [
    "x_list"
   ]
  },
  {
   "cell_type": "code",
   "execution_count": 62,
   "metadata": {},
   "outputs": [
    {
     "data": {
      "text/plain": [
       "[1414758.3188385766,\n",
       " 657909.1825699497,\n",
       " 326119.9107653632,\n",
       " 260812.5692053252,\n",
       " 195754.50147439959,\n",
       " 154667.65010495024,\n",
       " 127957.10715254485,\n",
       " 110925.96042662226,\n",
       " 85193.91793278552]"
      ]
     },
     "execution_count": 62,
     "metadata": {},
     "output_type": "execute_result"
    }
   ],
   "source": [
    "wcss"
   ]
  },
  {
   "cell_type": "code",
   "execution_count": 63,
   "metadata": {},
   "outputs": [
    {
     "data": {
      "text/plain": [
       "[<matplotlib.lines.Line2D at 0x2119f170c80>]"
      ]
     },
     "execution_count": 63,
     "metadata": {},
     "output_type": "execute_result"
    },
    {
     "data": {
      "image/png": "[encoded data removed]",
      "text/plain": [
       "<Figure size 640x480 with 1 Axes>"
      ]
     },
     "metadata": {},
     "output_type": "display_data"
    }
   ],
   "source": [
    "plt.plot(x_list, wcss)"
   ]
  },
  {
   "cell_type": "markdown",
   "metadata": {},
   "source": [
    "If you haven't, go back and play around with the number of clusters. \n",
    "\n",
    "Try 3, 7 and 8 and see if the results match your expectations!"
   ]
  }
 ],
 "metadata": {
  "kernelspec": {
   "display_name": "Python 3 (ipykernel)",
   "language": "python",
   "name": "python3"
  },
  "language_info": {
   "codemirror_mode": {
    "name": "ipython",
    "version": 3
   },
   "file_extension": ".py",
   "mimetype": "text/x-python",
   "name": "python",
   "nbconvert_exporter": "python",
   "pygments_lexer": "ipython3",
   "version": "3.12.7"
  }
 },
 "nbformat": 4,
 "nbformat_minor": 4
}
