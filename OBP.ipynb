{
 "cells": [
  {
   "cell_type": "code",
   "execution_count": 1,
   "id": "4c01a628-5c89-4772-aa00-e87b5025d029",
   "metadata": {
    "scrolled": true
   },
   "outputs": [
    {
     "data": {
      "image/png": "[encoded data removed]",
      "text/plain": [
       "<PIL.PngImagePlugin.PngImageFile image mode=RGBA size=1595x59>"
      ]
     },
     "execution_count": 1,
     "metadata": {},
     "output_type": "execute_result"
    }
   ],
   "source": [
    "from qiskit.transpiler import CouplingMap\n",
    "from rustworkx.visualization import graphviz_draw\n",
    "\n",
    "num_qubits = 10\n",
    "layout = [(i-1,i) for i in range(1, num_qubits)]\n",
    "\n",
    "# Instantiate a CouplingMap object\n",
    "coupling_map = CouplingMap(layout)\n",
    "graphviz_draw(coupling_map.graph, method=\"circo\")"
   ]
  },
  {
   "cell_type": "code",
   "execution_count": 1,
   "id": "d3c3155c-347c-4dab-8e4a-7bc9161ef8f1",
   "metadata": {},
   "outputs": [
    {
     "name": "stdout",
     "output_type": "stream",
     "text": [
      "Package                   Version\n",
      "------------------------- --------------\n",
      "annotated-types           0.7.0\n",
      "anyio                     4.4.0\n",
      "archspec                  0.2.3\n",
      "argon2-cffi               23.1.0\n",
      "argon2-cffi-bindings      21.2.0\n",
      "arrow                     1.3.0\n",
      "asttokens                 2.4.1\n",
      "async-lru                 2.0.4\n",
      "attrs                     23.2.0\n",
      "Babel                     2.14.0\n",
      "beautifulsoup4            4.12.3\n",
      "bleach                    6.1.0\n",
      "boltons                   24.0.0\n",
      "Brotli                    1.1.0\n",
      "cached-property           1.5.2\n",
      "certifi                   2024.7.4\n",
      "cffi                      1.16.0\n",
      "charset-normalizer        3.3.2\n",
      "colorama                  0.4.6\n",
      "comm                      0.2.2\n",
      "conda                     24.5.0\n",
      "conda-libmamba-solver     24.1.0\n",
      "conda-package-handling    2.2.0\n",
      "conda_package_streaming   0.9.0\n",
      "cryptography              42.0.8\n",
      "debugpy                   1.8.2\n",
      "decorator                 5.1.1\n",
      "defusedxml                0.7.1\n",
      "dill                      0.3.8\n",
      "distro                    1.9.0\n",
      "entrypoints               0.4\n",
      "exceptiongroup            1.2.0\n",
      "executing                 2.0.1\n",
      "fastjsonschema            2.20.0\n",
      "fqdn                      1.5.1\n",
      "frozendict                2.4.4\n",
      "graphviz                  0.20.3\n",
      "h11                       0.14.0\n",
      "h2                        4.1.0\n",
      "hpack                     4.0.0\n",
      "httpcore                  1.0.5\n",
      "httpx                     0.27.0\n",
      "hyperframe                6.0.1\n",
      "ibm-cloud-sdk-core        3.20.1\n",
      "ibm-platform-services     0.54.2\n",
      "idna                      3.6\n",
      "importlib_metadata        8.0.0\n",
      "importlib_resources       6.4.0\n",
      "ipykernel                 6.29.5\n",
      "ipython                   8.26.0\n",
      "ipywidgets                8.1.3\n",
      "isoduration               20.11.0\n",
      "jedi                      0.19.1\n",
      "Jinja2                    3.1.4\n",
      "json5                     0.9.25\n",
      "jsonpatch                 1.33\n",
      "jsonpointer               2.4\n",
      "jsonschema                4.23.0\n",
      "jsonschema-specifications 2023.12.1\n",
      "jupyter                   1.0.0\n",
      "jupyter_client            8.6.2\n",
      "jupyter-console           6.6.3\n",
      "jupyter_core              5.7.2\n",
      "jupyter-events            0.10.0\n",
      "jupyter-lsp               2.2.5\n",
      "jupyter_server            2.14.1\n",
      "jupyter_server_terminals  0.5.3\n",
      "jupyterlab                4.2.3\n",
      "jupyterlab_pygments       0.3.0\n",
      "jupyterlab_server         2.27.2\n",
      "jupyterlab_widgets        3.0.11\n",
      "libmambapy                1.5.8\n",
      "mamba                     1.5.8\n",
      "MarkupSafe                2.1.5\n",
      "matplotlib-inline         0.1.7\n",
      "menuinst                  2.0.2\n",
      "mistune                   3.0.2\n",
      "mpmath                    1.3.0\n",
      "nbclient                  0.10.0\n",
      "nbconvert                 7.16.4\n",
      "nbformat                  5.10.4\n",
      "nest_asyncio              1.6.0\n",
      "notebook                  7.2.1\n",
      "notebook_shim             0.2.4\n",
      "numpy                     2.0.0\n",
      "overrides                 7.7.0\n",
      "packaging                 24.0\n",
      "pandocfilters             1.5.0\n",
      "parso                     0.8.4\n",
      "pbr                       6.0.0\n",
      "pickleshare               0.7.5\n",
      "pillow                    11.1.0\n",
      "pip                       24.0\n",
      "pkgutil_resolve_name      1.3.10\n",
      "platformdirs              4.2.0\n",
      "pluggy                    1.4.0\n",
      "prometheus_client         0.20.0\n",
      "prompt_toolkit            3.0.47\n",
      "psutil                    6.0.0\n",
      "pure-eval                 0.2.2\n",
      "pycosat                   0.6.6\n",
      "pycparser                 2.22\n",
      "pydantic                  2.8.2\n",
      "pydantic_core             2.20.1\n",
      "pydot                     3.0.4\n",
      "Pygments                  2.18.0\n",
      "PyJWT                     2.8.0\n",
      "pyparsing                 3.2.1\n",
      "PySocks                   1.7.1\n",
      "pyspnego                  0.11.0\n",
      "python-dateutil           2.9.0\n",
      "python-json-logger        2.0.7\n",
      "pytz                      2024.1\n",
      "pywin32                   306\n",
      "pywinpty                  2.0.13\n",
      "PyYAML                    6.0.1\n",
      "pyzmq                     26.0.3\n",
      "qiskit                    1.1.1\n",
      "qiskit-aer                0.14.2\n",
      "qiskit-ibm-runtime        0.25.0\n",
      "qtconsole                 5.5.2\n",
      "QtPy                      2.4.1\n",
      "referencing               0.35.1\n",
      "requests                  2.31.0\n",
      "requests_ntlm             1.3.0\n",
      "rfc3339-validator         0.1.4\n",
      "rfc3986-validator         0.1.1\n",
      "rpds-py                   0.19.0\n",
      "ruamel.yaml               0.18.6\n",
      "ruamel.yaml.clib          0.2.8\n",
      "rustworkx                 0.15.1\n",
      "scipy                     1.14.0\n",
      "Send2Trash                1.8.3\n",
      "setuptools                69.5.1\n",
      "six                       1.16.0\n",
      "sniffio                   1.3.1\n",
      "soupsieve                 2.5\n",
      "sspilib                   0.1.0\n",
      "stack-data                0.6.2\n",
      "stevedore                 5.2.0\n",
      "symengine                 0.11.0\n",
      "sympy                     1.13.0\n",
      "terminado                 0.18.1\n",
      "tinycss2                  1.3.0\n",
      "tomli                     2.0.1\n",
      "tornado                   6.4.1\n",
      "tqdm                      4.66.2\n",
      "traitlets                 5.14.3\n",
      "truststore                0.8.0\n",
      "types-python-dateutil     2.9.0.20240316\n",
      "typing_extensions         4.12.2\n",
      "typing-utils              0.1.0\n",
      "uri-template              1.3.0\n",
      "urllib3                   2.2.1\n",
      "wcwidth                   0.2.13\n",
      "webcolors                 24.6.0\n",
      "webencodings              0.5.1\n",
      "websocket-client          1.8.0\n",
      "wheel                     0.43.0\n",
      "widgetsnbextension        4.0.11\n",
      "win-inet-pton             1.1.0\n",
      "zipp                      3.19.2\n",
      "zstandard                 0.22.0\n"
     ]
    }
   ],
   "source": [
    "!pip list"
   ]
  },
  {
   "cell_type": "code",
   "execution_count": 2,
   "id": "cc49a3c2-b8da-487b-b334-eccf025de20c",
   "metadata": {},
   "outputs": [],
   "source": [
    "from rustworkx.visualization import graphviz_draw"
   ]
  },
  {
   "cell_type": "code",
   "execution_count": 6,
   "id": "f4cd46c6-6ca7-4787-82be-c44035bb9e6f",
   "metadata": {},
   "outputs": [
    {
     "ename": "NameError",
     "evalue": "name 'graphviz' is not defined",
     "output_type": "error",
     "traceback": [
      "\u001b[1;31m---------------------------------------------------------------------------\u001b[0m",
      "\u001b[1;31mNameError\u001b[0m                                 Traceback (most recent call last)",
      "Cell \u001b[1;32mIn[6], line 1\u001b[0m\n\u001b[1;32m----> 1\u001b[0m \u001b[43mgraphviz\u001b[49m\n",
      "\u001b[1;31mNameError\u001b[0m: name 'graphviz' is not defined"
     ]
    }
   ],
   "source": [
    "graphviz"
   ]
  },
  {
   "cell_type": "code",
   "execution_count": 7,
   "id": "49939950-2109-49c5-aec4-9eca0c35ec88",
   "metadata": {},
   "outputs": [
    {
     "ename": "NameError",
     "evalue": "name 'subprocess' is not defined",
     "output_type": "error",
     "traceback": [
      "\u001b[1;31m---------------------------------------------------------------------------\u001b[0m",
      "\u001b[1;31mNameError\u001b[0m                                 Traceback (most recent call last)",
      "Cell \u001b[1;32mIn[7], line 1\u001b[0m\n\u001b[1;32m----> 1\u001b[0m \u001b[43msubprocess\u001b[49m\u001b[38;5;241m.\u001b[39mrun\n",
      "\u001b[1;31mNameError\u001b[0m: name 'subprocess' is not defined"
     ]
    }
   ],
   "source": [
    "subprocess.run"
   ]
  },
  {
   "cell_type": "code",
   "execution_count": null,
   "id": "084070ea-9251-441a-8275-a16cc30570ce",
   "metadata": {},
   "outputs": [],
   "source": []
  }
 ],
 "metadata": {
  "kernelspec": {
   "display_name": "Python 3 (ipykernel)",
   "language": "python",
   "name": "python3"
  },
  "language_info": {
   "codemirror_mode": {
    "name": "ipython",
    "version": 3
   },
   "file_extension": ".py",
   "mimetype": "text/x-python",
   "name": "python",
   "nbconvert_exporter": "python",
   "pygments_lexer": "ipython3",
   "version": "3.10.14"
  }
 },
 "nbformat": 4,
 "nbformat_minor": 5
}
